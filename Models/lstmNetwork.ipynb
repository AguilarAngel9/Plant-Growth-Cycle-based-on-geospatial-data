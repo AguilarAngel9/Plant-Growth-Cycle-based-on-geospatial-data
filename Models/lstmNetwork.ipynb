{
 "cells": [
  {
   "cell_type": "markdown",
   "metadata": {},
   "source": [
    "# Long Short Term Memory"
   ]
  },
  {
   "cell_type": "code",
   "execution_count": null,
   "metadata": {},
   "outputs": [],
   "source": [
    "from whittaker_smooth import whittaker_smooth\n",
    "from datetime import date\n",
    "import matplotlib.pyplot as plt\n",
    "import numpy as np\n",
    "import utils"
   ]
  },
  {
   "cell_type": "code",
   "execution_count": null,
   "metadata": {},
   "outputs": [],
   "source": [
    "# TODO: Changes these values for parameters on a database.\n",
    "BASE_DIR = '/home/aargaez/Downloads/Plant-Growth-Cycle-based-on-geospatial-data/DataExtraction/kansasData'\n",
    "bands =  ['B4','B3','B2','B8']\n",
    "\n",
    "# Dictionaries of the images.\n",
    "images_kansas = utils.load_landsat_image(BASE_DIR, bands)\n",
    "# Get the days after plant and the dates.\n",
    "days_kansas, dates_kansas, hours_kansas = utils.images_time_info(images_kansas.keys(), initial_date = date(2019, 4, 1))\n",
    "# Calculate the NDVI series over the crops.\n",
    "ndvi_series_kansas = utils.generate_ndvi_time_series(images_kansas)\n",
    "# Apply a Whittaker Smooth filter.\n",
    "ndvi_smooth_kansas = whittaker_smooth(np.array(ndvi_series_kansas), lmbd=10)"
   ]
  },
  {
   "cell_type": "code",
   "execution_count": null,
   "metadata": {},
   "outputs": [],
   "source": [
    "plt.title('NDVI time series for Kansas')\n",
    "plt.plot(days_kansas, ndvi_smooth_kansas, label='smooth-19')\n",
    "plt.legend()\n",
    "plt.show()"
   ]
  },
  {
   "cell_type": "code",
   "execution_count": null,
   "metadata": {},
   "outputs": [],
   "source": [
    "# Apply an interpolation by splines.\n",
    "x_, y_ = utils.interpolate_curve(days_kansas, ndvi_smooth_kansas)"
   ]
  },
  {
   "cell_type": "code",
   "execution_count": null,
   "metadata": {},
   "outputs": [],
   "source": [
    "plt.plot(x_, y_, label='interpol_19')\n",
    "plt.title('Cubic Spline Interpolation')\n",
    "plt.xlabel('Days after planting')\n",
    "plt.ylabel('NDVI')\n",
    "plt.legend()\n",
    "plt.show()"
   ]
  },
  {
   "cell_type": "code",
   "execution_count": null,
   "metadata": {},
   "outputs": [],
   "source": [
    "# TODO: Changes these values for parameters on a database.\n",
    "BASE_DIR = '/home/aargaez/Downloads/Plant-Growth-Cycle-based-on-geospatial-data/DataExtraction/kansas'\n",
    "bands =  ['B4','B3','B2','B8']\n",
    "\n",
    "# Dictionaries of the images.\n",
    "images_kansas19 = utils.load_landsat_image(BASE_DIR + '19', bands)\n",
    "images_kansas20 = utils.load_landsat_image(BASE_DIR + '20', bands)\n",
    "images_kansas21 = utils.load_landsat_image(BASE_DIR + '21', bands)\n",
    "images_kansas22 = utils.load_landsat_image(BASE_DIR + '22', bands)"
   ]
  },
  {
   "cell_type": "code",
   "execution_count": null,
   "metadata": {},
   "outputs": [],
   "source": [
    "# Get the days after plant and the dates.\n",
    "days_19, dates_19, hours_19 = utils.images_time_info(images_kansas19.keys(), initial_date = date(2019, 4, 1))\n",
    "days_20, dates_20, hours_20 = utils.images_time_info(images_kansas20.keys(), initial_date = date(2019, 4, 1))\n",
    "days_21, dates_21, hours_21 = utils.images_time_info(images_kansas21.keys(), initial_date = date(2019, 4, 1))\n",
    "days_22, dates_22, hours_22 = utils.images_time_info(images_kansas22.keys(), initial_date = date(2019, 4, 1))\n",
    "\n",
    "# Calculate the NDVI series over the crops.\n",
    "ndvi_series_19 = utils.generate_ndvi_time_series(images_kansas19)\n",
    "ndvi_series_20 = utils.generate_ndvi_time_series(images_kansas20)\n",
    "ndvi_series_21 = utils.generate_ndvi_time_series(images_kansas21)\n",
    "ndvi_series_22 = utils.generate_ndvi_time_series(images_kansas22)"
   ]
  },
  {
   "cell_type": "code",
   "execution_count": null,
   "metadata": {},
   "outputs": [],
   "source": [
    "# Apply a Whittaker Smooth filter.\n",
    "ndvi_smooth_19 = whittaker_smooth(np.array(ndvi_series_19), lmbd=10)\n",
    "ndvi_smooth_20 = whittaker_smooth(np.array(ndvi_series_20), lmbd=10)\n",
    "ndvi_smooth_21 = whittaker_smooth(np.array(ndvi_series_21), lmbd=10)\n",
    "ndvi_smooth_22 = whittaker_smooth(np.array(ndvi_series_22), lmbd=10)"
   ]
  },
  {
   "cell_type": "code",
   "execution_count": null,
   "metadata": {},
   "outputs": [],
   "source": [
    "plt.title('NDVI time series for Kansas')\n",
    "plt.plot(days_19, ndvi_smooth_19, label='smooth-19')\n",
    "plt.plot(days_20, ndvi_smooth_20, label='smooth-20')\n",
    "plt.plot(days_21, ndvi_smooth_21, label='smooth-21')\n",
    "plt.plot(days_22, ndvi_smooth_22, label='smooth-22')\n",
    "plt.legend()\n",
    "plt.show()"
   ]
  },
  {
   "cell_type": "code",
   "execution_count": null,
   "metadata": {},
   "outputs": [],
   "source": [
    "# Apply an interpolation by splines.\n",
    "x_19, y_19 = utils.interpolate_curve(days_19, ndvi_smooth_19)\n",
    "x_20, y_20 = utils.interpolate_curve(days_20, ndvi_smooth_20)\n",
    "x_21, y_21 = utils.interpolate_curve(days_21, ndvi_smooth_21)\n",
    "x_22, y_22 = utils.interpolate_curve(days_22, ndvi_smooth_22)"
   ]
  },
  {
   "cell_type": "code",
   "execution_count": null,
   "metadata": {},
   "outputs": [],
   "source": [
    "plt.plot(x_19, y_19, label='interpol_19')\n",
    "plt.plot(x_20, y_20, label='interpol_20')\n",
    "plt.plot(x_21, y_21, label='interpol_21')\n",
    "plt.plot(x_22, y_22, label='interpol_22')\n",
    "plt.title('Cubic Spline Interpolation')\n",
    "plt.xlabel('Days after planting')\n",
    "plt.ylabel('NDVI')\n",
    "plt.legend()\n",
    "plt.show()"
   ]
  },
  {
   "cell_type": "code",
   "execution_count": null,
   "metadata": {},
   "outputs": [],
   "source": [
    "x = np.concatenate((x_19, x_20, x_21, x_22), axis=0)\n",
    "y = np.concatenate((y_19, y_20, y_21, y_22), axis=0)"
   ]
  },
  {
   "cell_type": "code",
   "execution_count": null,
   "metadata": {},
   "outputs": [],
   "source": [
    "plt.title('NDVI time series for Kansas')\n",
    "plt.plot([i for i in range(len(y))], y, label='2019-2022')\n",
    "plt.legend()\n",
    "plt.show()"
   ]
  },
  {
   "cell_type": "code",
   "execution_count": null,
   "metadata": {},
   "outputs": [],
   "source": [
    "# Save the clean data to a DataFrame.\n"
   ]
  }
 ],
 "metadata": {
  "kernelspec": {
   "display_name": "Python 3.8.10 ('venvpgc': venv)",
   "language": "python",
   "name": "python3"
  },
  "language_info": {
   "codemirror_mode": {
    "name": "ipython",
    "version": 3
   },
   "file_extension": ".py",
   "mimetype": "text/x-python",
   "name": "python",
   "nbconvert_exporter": "python",
   "pygments_lexer": "ipython3",
   "version": "3.8.10"
  },
  "orig_nbformat": 4,
  "vscode": {
   "interpreter": {
    "hash": "458324898a307e82937a0201a3cb78a6e01bf2fa4d39f3dd0863d1bd1c8ab461"
   }
  }
 },
 "nbformat": 4,
 "nbformat_minor": 2
}
