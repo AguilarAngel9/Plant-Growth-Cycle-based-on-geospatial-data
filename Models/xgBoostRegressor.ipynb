{
 "cells": [
  {
   "cell_type": "code",
   "execution_count": 46,
   "metadata": {},
   "outputs": [],
   "source": [
    "import matplotlib.pyplot as plt\n",
    "import pandas as pd\n",
    "import numpy as np\n",
    "import utils\n",
    "from whittaker_smooth import whittaker_smooth\n",
    "from sklearn.metrics import mean_absolute_error\n",
    "from xgboost import XGBRegressor"
   ]
  },
  {
   "cell_type": "code",
   "execution_count": 47,
   "metadata": {},
   "outputs": [
    {
     "ename": "IndexError",
     "evalue": "list index out of range",
     "output_type": "error",
     "traceback": [
      "\u001b[0;31m---------------------------------------------------------------------------\u001b[0m",
      "\u001b[0;31mIndexError\u001b[0m                                Traceback (most recent call last)",
      "Cell \u001b[0;32mIn [2], line 8\u001b[0m\n\u001b[1;32m      5\u001b[0m images \u001b[39m=\u001b[39m utils\u001b[39m.\u001b[39mload_landsat_image(IMGS_PATH, bands)\n\u001b[1;32m      7\u001b[0m \u001b[39m# Get the days after plant and the dates.\u001b[39;00m\n\u001b[0;32m----> 8\u001b[0m days, dates, hours \u001b[39m=\u001b[39m utils\u001b[39m.\u001b[39;49mimages_time_info(images\u001b[39m.\u001b[39;49mkeys())\n\u001b[1;32m     10\u001b[0m \u001b[39m# Calculate the NDVI series over the crop.\u001b[39;00m\n\u001b[1;32m     11\u001b[0m ndvi_series \u001b[39m=\u001b[39m utils\u001b[39m.\u001b[39mgenerate_ndvi_time_series(images)\n",
      "File \u001b[0;32m~/Downloads/Plant-Growth-Cycle-based-on-geospatial-data/Models/utils.py:484\u001b[0m, in \u001b[0;36mimages_time_info\u001b[0;34m(img_keys)\u001b[0m\n\u001b[1;32m    481\u001b[0m dates_list\u001b[39m.\u001b[39msort()\n\u001b[1;32m    483\u001b[0m \u001b[39m# List of numbers.\u001b[39;00m\n\u001b[0;32m--> 484\u001b[0m initial_date \u001b[39m=\u001b[39m datetime\u001b[39m.\u001b[39mstrptime(dates_list[\u001b[39m0\u001b[39;49m], \u001b[39m'\u001b[39m\u001b[39m%\u001b[39m\u001b[39mY-\u001b[39m\u001b[39m%\u001b[39m\u001b[39mm-\u001b[39m\u001b[39m%d\u001b[39;00m\u001b[39m'\u001b[39m)\n\u001b[1;32m    485\u001b[0m \u001b[39m# Calculate the differences between the initial and the nexts days.\u001b[39;00m\n\u001b[1;32m    486\u001b[0m day_numbers \u001b[39m=\u001b[39m [datetime\u001b[39m.\u001b[39mstrptime(day, \u001b[39m'\u001b[39m\u001b[39m%\u001b[39m\u001b[39mY-\u001b[39m\u001b[39m%\u001b[39m\u001b[39mm-\u001b[39m\u001b[39m%d\u001b[39;00m\u001b[39m'\u001b[39m) \u001b[39m-\u001b[39m initial_date \u001b[39mfor\u001b[39;00m day \u001b[39min\u001b[39;00m dates_list]\n",
      "\u001b[0;31mIndexError\u001b[0m: list index out of range"
     ]
    }
   ],
   "source": [
    "IMGS_PATH = '/home/mauricio/code/Plant-Growth-Cycle-based-on-geospatial-data/Manitoba1-1/'\n",
    "bands =  ['B4','B3','B2','B8']\n",
    "\n",
    "# Dict of the images.\n",
    "images = utils.load_landsat_image(IMGS_PATH, bands)\n",
    "\n",
    "# Get the days after plant and the dates.\n",
    "days, dates, hours = utils.images_time_info(images.keys())\n",
    "\n",
    "# Calculate the NDVI series over the crop.\n",
    "ndvi_series = utils.generate_ndvi_time_series(images)"
   ]
  },
  {
   "cell_type": "code",
   "execution_count": null,
   "metadata": {},
   "outputs": [],
   "source": [
    "plt.plot(days, ndvi_series)\n",
    "plt.title('NDVI Manitoba 2022')\n",
    "plt.show()"
   ]
  },
  {
   "cell_type": "code",
   "execution_count": null,
   "metadata": {},
   "outputs": [],
   "source": [
    "# Perform a Whittaker Smooth.\n",
    "y_ = whittaker_smooth(np.array(ndvi_series), lmbd=10)\n",
    "plt.plot(days, ndvi_series, label=\"Raw\")\n",
    "plt.plot(days, y_, label='Wittaker')\n",
    "plt.legend()\n",
    "plt.show()"
   ]
  },
  {
   "cell_type": "code",
   "execution_count": null,
   "metadata": {},
   "outputs": [],
   "source": [
    "df = pd.DataFrame(columns=[\"Dates\", \"Values\"])\n",
    "df[\"Dates\"] = pd.to_datetime(dates)\n",
    "df[\"Values\"] = y_\n",
    "df = df.resample('1D', on=\"Dates\").agg(\"first\").ffill() ## Quitar para eliminar resampling\n",
    "df"
   ]
  },
  {
   "cell_type": "code",
   "execution_count": 3,
   "metadata": {},
   "outputs": [
    {
     "ename": "NameError",
     "evalue": "name 'df' is not defined",
     "output_type": "error",
     "traceback": [
      "\u001b[0;31m---------------------------------------------------------------------------\u001b[0m",
      "\u001b[0;31mNameError\u001b[0m                                 Traceback (most recent call last)",
      "Cell \u001b[0;32mIn [3], line 1\u001b[0m\n\u001b[0;32m----> 1\u001b[0m df\u001b[39m.\u001b[39mplot()\n",
      "\u001b[0;31mNameError\u001b[0m: name 'df' is not defined"
     ]
    }
   ],
   "source": [
    "df.plot()"
   ]
  },
  {
   "cell_type": "markdown",
   "metadata": {},
   "source": [
    "## Train/Test"
   ]
  },
  {
   "cell_type": "code",
   "execution_count": null,
   "metadata": {},
   "outputs": [],
   "source": [
    "# transform a time series dataset into a supervised learning dataset\n",
    "def series_to_supervised(data, n_in=1, n_out=1, dropnan=True):\n",
    "\tn_vars = 1 if type(data) is list else data.shape[1]\n",
    "\tdf = pd.DataFrame(data)\n",
    "\tcols = list()\n",
    "\t# input sequence (t-n, ... t-1)\n",
    "\tfor i in range(n_in, 0, -1):\n",
    "\t\tcols.append(df.shift(i))\n",
    "\t# forecast sequence (t, t+1, ... t+n)\n",
    "\tfor i in range(0, n_out):\n",
    "\t\tcols.append(df.shift(-i))\n",
    "\t# put it all together\n",
    "\tagg = pd.concat(cols, axis=1)\n",
    "\t# drop rows with NaN values\n",
    "\tif dropnan:\n",
    "\t\tagg.dropna(inplace=True)\n",
    "\treturn agg.values\n",
    "\n",
    "# split a univariate dataset into train/test sets\n",
    "def train_test_split(data, n_test):\n",
    "\treturn data[:-n_test, :], data[-n_test:, :]\n",
    "\n",
    "# fit an xgboost model and make a one step prediction\n",
    "def xgboost_forecast(train, testX):\n",
    "\t# transform list into array\n",
    "\ttrain = np.asarray(train)\n",
    "\t# split into input and output columns\n",
    "\ttrainX, trainy = train[:, :-1], train[:, -1]\n",
    "\t# fit model\n",
    "\tmodel = XGBRegressor(objective='reg:squarederror', n_estimators=1000)\n",
    "\tmodel.fit(trainX, trainy)\n",
    "\t# make a one-step prediction\n",
    "\tyhat = model.predict(np.asarray([testX]))\n",
    "\treturn yhat[0]\n",
    "\n",
    "# walk-forward validation for univariate data\n",
    "def walk_forward_validation(data, n_test):\n",
    "\tpredictions = list()\n",
    "\t# split dataset\n",
    "\ttrain, test = train_test_split(data, n_test)\n",
    "\t# seed history with training dataset\n",
    "\thistory = [x for x in train]\n",
    "\t# step over each time-step in the test set\n",
    "\tfor i in range(len(test)):\n",
    "\t\t# split test row into input and output columns\n",
    "\t\ttestX, testy = test[i, :-1], test[i, -1]\n",
    "\t\t# fit model on history and make a prediction\n",
    "\t\tyhat = xgboost_forecast(history, testX)\n",
    "\t\t# store forecast in list of predictions\n",
    "\t\tpredictions.append(yhat)\n",
    "\t\t# add actual observation to history for the next loop\n",
    "\t\thistory.append(test[i])\n",
    "\t\t# summarize progress\n",
    "\t\tprint('>expected=%.1f, predicted=%.1f' % (testy, yhat))\n",
    "\t# estimate prediction error\n",
    "\terror = mean_absolute_error(test[:, -1], predictions)\n",
    "\treturn error, test[:, -1], predictions"
   ]
  },
  {
   "cell_type": "code",
   "execution_count": null,
   "metadata": {},
   "outputs": [],
   "source": [
    "# load the dataset\n",
    "values = list(df[\"Values\"])\n",
    "# transform the time series data into supervised learning\n",
    "data = series_to_supervised(values, n_in=6)\n",
    "# evaluate\n",
    "mae, y, yhat = walk_forward_validation(data, 12)\n",
    "print('MAE: %.3f' % mae)\n",
    "# plot expected vs preducted\n",
    "plt.plot(y, label='Expected')\n",
    "plt.plot(yhat, label='Predicted')\n",
    "plt.legend()\n",
    "plt.show()"
   ]
  },
  {
   "cell_type": "code",
   "execution_count": null,
   "metadata": {},
   "outputs": [],
   "source": [
    "y_"
   ]
  },
  {
   "cell_type": "markdown",
   "metadata": {},
   "source": [
    "## Forecast"
   ]
  },
  {
   "cell_type": "code",
   "execution_count": null,
   "metadata": {},
   "outputs": [],
   "source": [
    "# load the dataset\n",
    "values = list(df[\"Values\"])\n",
    "# transform the time series data into supervised learning\n",
    "train = series_to_supervised(values, n_in=90)\n",
    "# split into input and output columns\n",
    "trainX, trainy = train[:, :-1], train[:, -1]\n",
    "# fit model\n",
    "model = XGBRegressor(objective='reg:squarederror', n_estimators=1000)\n",
    "model.fit(trainX, trainy)\n",
    "\n",
    "predictions = []\n",
    "\n",
    "for i in range(300):\n",
    "# construct an input for a new preduction\n",
    "    row = values[-90:]\n",
    "# make a one-step prediction\n",
    "    yhat = model.predict(np.asarray([row]))\n",
    "    values.append(yhat[0])\n",
    "    predictions.append(yhat[0])\n",
    "    #print('Input: %s, Predicted: %.3f' % (row, yhat[0]))"
   ]
  },
  {
   "cell_type": "code",
   "execution_count": null,
   "metadata": {},
   "outputs": [],
   "source": [
    "plt.figure(figsize=(10,6))\n",
    "plt.plot([i for i in range(len(values))], values, label=\"Previous\")\n",
    "plt.plot([i for i in range(len(df[\"Values\"]), len(df[\"Values\"])+len(predictions))], predictions, label=\"Predictions\")\n",
    "plt.legend()\n",
    "plt.show()"
   ]
  },
  {
   "cell_type": "markdown",
   "metadata": {},
   "source": [
    "# Interpolation"
   ]
  },
  {
   "cell_type": "code",
   "execution_count": null,
   "metadata": {},
   "outputs": [],
   "source": [
    "IMGS_PATH = '/home/mauricio/code/Plant-Growth-Cycle-based-on-geospatial-data/Manitoba1-1/'\n",
    "bands =  ['B4','B3','B2','B8']\n",
    "\n",
    "# Dict of the images.\n",
    "images = utils.load_landsat_image(IMGS_PATH, bands)\n",
    "\n",
    "# Get the days after plant and the dates.\n",
    "days, dates, hours = utils.images_time_info(images.keys())\n",
    "\n",
    "# Calculate the NDVI series over the crop.\n",
    "ndvi_series = utils.generate_ndvi_time_series(images)"
   ]
  },
  {
   "cell_type": "code",
   "execution_count": null,
   "metadata": {},
   "outputs": [],
   "source": [
    "plt.plot(days, ndvi_series)\n",
    "plt.title('NDVI Manitoba 2022')\n",
    "plt.show()"
   ]
  },
  {
   "cell_type": "code",
   "execution_count": null,
   "metadata": {},
   "outputs": [],
   "source": [
    "# Perform a Whittaker Smooth.\n",
    "smoothed = whittaker_smooth(np.array(ndvi_series), lmbd=10)\n",
    "plt.plot(days, ndvi_series, label=\"Raw\")\n",
    "plt.plot(days, smoothed, label='Wittaker')\n",
    "plt.legend()\n",
    "plt.show()"
   ]
  },
  {
   "cell_type": "code",
   "execution_count": null,
   "metadata": {},
   "outputs": [],
   "source": [
    "plt.plot(days)"
   ]
  },
  {
   "cell_type": "code",
   "execution_count": null,
   "metadata": {},
   "outputs": [],
   "source": [
    "plt.figure(figsize = (10,8))\n",
    "plt.plot(x_new, y_new, 'b', label='Interpolated')\n",
    "plt.plot(days, smoothed, 'ro', label='smooth curve')\n",
    "plt.title('Cubic Spline Interpolation')\n",
    "plt.legend()\n",
    "plt.xlabel('x')\n",
    "plt.ylabel('y')\n",
    "plt.show()"
   ]
  },
  {
   "cell_type": "code",
   "execution_count": 69,
   "metadata": {},
   "outputs": [],
   "source": [
    "# load the dataset\n",
    "values = list(y_new)\n",
    "# transform the time series data into supervised learning\n",
    "train = series_to_supervised(values, n_in=60)\n",
    "# split into input and output columns\n",
    "trainX, trainy = train[:, :-1], train[:, -1]\n",
    "# fit model\n",
    "model = XGBRegressor(objective='reg:squarederror', n_estimators=1000)\n",
    "model.fit(trainX, trainy)\n",
    "\n",
    "predictions = []\n",
    "\n",
    "for i in range(1000):\n",
    "# construct an input for a new preduction\n",
    "    row = values[-60:]\n",
    "# make a one-step prediction\n",
    "    yhat = model.predict(np.asarray([row]))\n",
    "    values.append(yhat[0])\n",
    "    predictions.append(yhat[0])\n",
    "    #print('Input: %s, Predicted: %.3f' % (row, yhat[0]))"
   ]
  },
  {
   "cell_type": "code",
   "execution_count": 70,
   "metadata": {},
   "outputs": [],
   "source": []
  },
  {
   "cell_type": "code",
   "execution_count": null,
   "metadata": {},
   "outputs": [],
   "source": []
  }
 ],
 "metadata": {
  "kernelspec": {
   "display_name": "Python 3.8.10 ('venvpgc': venv)",
   "language": "python",
   "name": "python3"
  },
  "language_info": {
   "codemirror_mode": {
    "name": "ipython",
    "version": 3
   },
   "file_extension": ".py",
   "mimetype": "text/x-python",
   "name": "python",
   "nbconvert_exporter": "python",
   "pygments_lexer": "ipython3",
   "version": "3.8.10"
  },
  "orig_nbformat": 4,
  "vscode": {
   "interpreter": {
    "hash": "458324898a307e82937a0201a3cb78a6e01bf2fa4d39f3dd0863d1bd1c8ab461"
   }
  }
 },
 "nbformat": 4,
 "nbformat_minor": 2
}
