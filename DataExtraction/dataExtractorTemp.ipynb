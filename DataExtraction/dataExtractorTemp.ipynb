{
 "cells": [
  {
   "cell_type": "code",
   "execution_count": 6,
   "metadata": {},
   "outputs": [],
   "source": [
    "\n",
    "from datetime import datetime, timedelta,date\n",
    "from calendar import monthrange\n",
    "from statistics import mean\n",
    "import matplotlib.pyplot as plt\n",
    "import pandas as pd\n",
    "import xarray as xr\n",
    "import numpy as np\n",
    "import cdsapi\n",
    "import utils\n"
   ]
  },
  {
   "cell_type": "code",
   "execution_count": 7,
   "metadata": {},
   "outputs": [
    {
     "name": "stderr",
     "output_type": "stream",
     "text": [
      "2022-11-09 15:14:56,433 INFO Welcome to the CDS\n",
      "2022-11-09 15:14:56,434 INFO Sending request to https://cds.climate.copernicus.eu/api/v2/resources/reanalysis-era5-single-levels\n",
      "2022-11-09 15:14:56,796 INFO Request is completed\n",
      "2022-11-09 15:14:56,797 INFO Downloading https://download-0019.copernicus-climate.eu/cache-compute-0019/cache/data7/adaptor.mars.internal-1667933472.564085-8126-14-2daca4cc-32c2-42ee-a453-94f1022d4860.nc to download.nc (4.7K)\n",
      "                                           \r"
     ]
    },
    {
     "ename": "OSError",
     "evalue": "[Errno 22] Invalid argument: 'download.nc'",
     "output_type": "error",
     "traceback": [
      "\u001b[1;31m---------------------------------------------------------------------------\u001b[0m",
      "\u001b[1;31mOSError\u001b[0m                                   Traceback (most recent call last)",
      "Cell \u001b[1;32mIn [7], line 16\u001b[0m\n\u001b[0;32m     12\u001b[0m end_dt\u001b[39m=\u001b[39m date\u001b[39m.\u001b[39mfromisoformat((\u001b[39mmax\u001b[39m(dates))\u001b[39m.\u001b[39mstrftime(\u001b[39m\"\u001b[39m\u001b[39m%\u001b[39m\u001b[39mY-\u001b[39m\u001b[39m%\u001b[39m\u001b[39mm-\u001b[39m\u001b[39m%d\u001b[39;00m\u001b[39m\"\u001b[39m))\n\u001b[0;32m     14\u001b[0m \u001b[39m#Llamamos a la función que nos genera un diccionario de las fechas de interes para datos de temperatura y precipitacion\u001b[39;00m\n\u001b[0;32m     15\u001b[0m \u001b[39m#Donde regresa el diccionario de fechas y los valores de temp y precip\u001b[39;00m\n\u001b[1;32m---> 16\u001b[0m data_aa,date_dic \u001b[39m=\u001b[39m utils\u001b[39m.\u001b[39mtemperature_precipitation_api(date_min\u001b[39m=\u001b[39mstart_dt, date_max\u001b[39m=\u001b[39mend_dt,hours\u001b[39m=\u001b[39mhours)\n\u001b[0;32m     17\u001b[0m \u001b[39m#Este es opcional y es para dar un numpy.ndarray para los valores de temp y preci \u001b[39;00m\n\u001b[0;32m     18\u001b[0m data_prep,data_temp\u001b[39m=\u001b[39mutils\u001b[39m.\u001b[39mvalues_temp_precip(dict_data\u001b[39m=\u001b[39mdata_aa)\n",
      "File \u001b[1;32mc:\\Users\\ricar\\Downloads\\Climateca\\Plant-Growth-Cycle-based-on-geospatial-data\\DataExtraction\\utils.py:724\u001b[0m, in \u001b[0;36mtemperature_precipitation_api\u001b[1;34m(date_min, date_max, hours)\u001b[0m\n\u001b[0;32m    721\u001b[0m c \u001b[39m=\u001b[39m cdsapi\u001b[39m.\u001b[39mClient()\n\u001b[0;32m    723\u001b[0m \u001b[39m#The api is sent to be called with the values we want.\u001b[39;00m\n\u001b[1;32m--> 724\u001b[0m c\u001b[39m.\u001b[39;49mretrieve(\n\u001b[0;32m    725\u001b[0m     \u001b[39m'\u001b[39;49m\u001b[39mreanalysis-era5-single-levels\u001b[39;49m\u001b[39m'\u001b[39;49m,\n\u001b[0;32m    726\u001b[0m     {\n\u001b[0;32m    727\u001b[0m         \u001b[39m'\u001b[39;49m\u001b[39mproduct_type\u001b[39;49m\u001b[39m'\u001b[39;49m: \u001b[39m'\u001b[39;49m\u001b[39mreanalysis\u001b[39;49m\u001b[39m'\u001b[39;49m,\n\u001b[0;32m    728\u001b[0m         \u001b[39m'\u001b[39;49m\u001b[39mvariable\u001b[39;49m\u001b[39m'\u001b[39;49m: [\n\u001b[0;32m    729\u001b[0m             \u001b[39m'\u001b[39;49m\u001b[39msoil_temperature_level_1\u001b[39;49m\u001b[39m'\u001b[39;49m, \u001b[39m'\u001b[39;49m\u001b[39mtotal_precipitation\u001b[39;49m\u001b[39m'\u001b[39;49m,\n\u001b[0;32m    730\u001b[0m         ],\n\u001b[0;32m    731\u001b[0m         \u001b[39m'\u001b[39;49m\u001b[39myear\u001b[39;49m\u001b[39m'\u001b[39;49m: date_dic[\u001b[39m'\u001b[39;49m\u001b[39myear\u001b[39;49m\u001b[39m'\u001b[39;49m]\n\u001b[0;32m    732\u001b[0m         ,\n\u001b[0;32m    733\u001b[0m         \u001b[39m'\u001b[39;49m\u001b[39mmonth\u001b[39;49m\u001b[39m'\u001b[39;49m: date_dic[\u001b[39m'\u001b[39;49m\u001b[39mmonth\u001b[39;49m\u001b[39m'\u001b[39;49m]\n\u001b[0;32m    734\u001b[0m         ,\n\u001b[0;32m    735\u001b[0m         \u001b[39m'\u001b[39;49m\u001b[39mday\u001b[39;49m\u001b[39m'\u001b[39;49m: date_dic[\u001b[39m'\u001b[39;49m\u001b[39mday\u001b[39;49m\u001b[39m'\u001b[39;49m]\n\u001b[0;32m    736\u001b[0m         ,\n\u001b[0;32m    737\u001b[0m         \u001b[39m'\u001b[39;49m\u001b[39mtime\u001b[39;49m\u001b[39m'\u001b[39;49m: date_dic[\u001b[39m'\u001b[39;49m\u001b[39mhour\u001b[39;49m\u001b[39m'\u001b[39;49m]\n\u001b[0;32m    738\u001b[0m         ,\n\u001b[0;32m    739\u001b[0m         \u001b[39m'\u001b[39;49m\u001b[39marea\u001b[39;49m\u001b[39m'\u001b[39;49m: [\n\u001b[0;32m    740\u001b[0m             \n\u001b[0;32m    741\u001b[0m             \u001b[39m38.1445082027146\u001b[39;49m, \u001b[39m-\u001b[39;49m\u001b[39m97.72654627101196\u001b[39;49m, \u001b[39m38.142173460759004\u001b[39;49m,\n\u001b[0;32m    742\u001b[0m             \u001b[39m-\u001b[39;49m\u001b[39m97.72096882266754\u001b[39;49m,\n\u001b[0;32m    743\u001b[0m         ],\n\u001b[0;32m    744\u001b[0m         \u001b[39m'\u001b[39;49m\u001b[39mformat\u001b[39;49m\u001b[39m'\u001b[39;49m: \u001b[39m'\u001b[39;49m\u001b[39mnetcdf\u001b[39;49m\u001b[39m'\u001b[39;49m,\n\u001b[0;32m    745\u001b[0m     },\n\u001b[0;32m    746\u001b[0m     \u001b[39m'\u001b[39;49m\u001b[39mdownload.nc\u001b[39;49m\u001b[39m'\u001b[39;49m)\n\u001b[0;32m    747\u001b[0m \u001b[39m#The API throws our data collection (temperature and precipitation) and we read it into data_tp.\u001b[39;00m\n\u001b[0;32m    748\u001b[0m data_tp\u001b[39m=\u001b[39m xr\u001b[39m.\u001b[39mopen_dataset(\u001b[39m'\u001b[39m\u001b[39mdownload.nc\u001b[39m\u001b[39m'\u001b[39m)\n",
      "File \u001b[1;32mc:\\Python39\\lib\\site-packages\\cdsapi\\api.py:350\u001b[0m, in \u001b[0;36mClient.retrieve\u001b[1;34m(self, name, request, target)\u001b[0m\n\u001b[0;32m    348\u001b[0m result \u001b[39m=\u001b[39m \u001b[39mself\u001b[39m\u001b[39m.\u001b[39m_api(\u001b[39m\"\u001b[39m\u001b[39m%s\u001b[39;00m\u001b[39m/resources/\u001b[39m\u001b[39m%s\u001b[39;00m\u001b[39m\"\u001b[39m \u001b[39m%\u001b[39m (\u001b[39mself\u001b[39m\u001b[39m.\u001b[39murl, name), request, \u001b[39m\"\u001b[39m\u001b[39mPOST\u001b[39m\u001b[39m\"\u001b[39m)\n\u001b[0;32m    349\u001b[0m \u001b[39mif\u001b[39;00m target \u001b[39mis\u001b[39;00m \u001b[39mnot\u001b[39;00m \u001b[39mNone\u001b[39;00m:\n\u001b[1;32m--> 350\u001b[0m     result\u001b[39m.\u001b[39;49mdownload(target)\n\u001b[0;32m    351\u001b[0m \u001b[39mreturn\u001b[39;00m result\n",
      "File \u001b[1;32mc:\\Python39\\lib\\site-packages\\cdsapi\\api.py:173\u001b[0m, in \u001b[0;36mResult.download\u001b[1;34m(self, target)\u001b[0m\n\u001b[0;32m    172\u001b[0m \u001b[39mdef\u001b[39;00m \u001b[39mdownload\u001b[39m(\u001b[39mself\u001b[39m, target\u001b[39m=\u001b[39m\u001b[39mNone\u001b[39;00m):\n\u001b[1;32m--> 173\u001b[0m     \u001b[39mreturn\u001b[39;00m \u001b[39mself\u001b[39;49m\u001b[39m.\u001b[39;49m_download(\u001b[39mself\u001b[39;49m\u001b[39m.\u001b[39;49mlocation, \u001b[39mself\u001b[39;49m\u001b[39m.\u001b[39;49mcontent_length, target)\n",
      "File \u001b[1;32mc:\\Python39\\lib\\site-packages\\cdsapi\\api.py:132\u001b[0m, in \u001b[0;36mResult._download\u001b[1;34m(self, url, size, target)\u001b[0m\n\u001b[0;32m    123\u001b[0m \u001b[39mwith\u001b[39;00m tqdm(\n\u001b[0;32m    124\u001b[0m     total\u001b[39m=\u001b[39msize,\n\u001b[0;32m    125\u001b[0m     unit_scale\u001b[39m=\u001b[39m\u001b[39mTrue\u001b[39;00m,\n\u001b[1;32m   (...)\u001b[0m\n\u001b[0;32m    129\u001b[0m     leave\u001b[39m=\u001b[39m\u001b[39mFalse\u001b[39;00m,\n\u001b[0;32m    130\u001b[0m ) \u001b[39mas\u001b[39;00m pbar:\n\u001b[0;32m    131\u001b[0m     pbar\u001b[39m.\u001b[39mupdate(total)\n\u001b[1;32m--> 132\u001b[0m     \u001b[39mwith\u001b[39;00m \u001b[39mopen\u001b[39;49m(target, mode) \u001b[39mas\u001b[39;00m f:\n\u001b[0;32m    133\u001b[0m         \u001b[39mfor\u001b[39;00m chunk \u001b[39min\u001b[39;00m r\u001b[39m.\u001b[39miter_content(chunk_size\u001b[39m=\u001b[39m\u001b[39m1024\u001b[39m):\n\u001b[0;32m    134\u001b[0m             \u001b[39mif\u001b[39;00m chunk:\n",
      "\u001b[1;31mOSError\u001b[0m: [Errno 22] Invalid argument: 'download.nc'"
     ]
    }
   ],
   "source": [
    "IMGS_PATH = ('C:/Users/ricar/Downloads/CGIT/Manitoba1-1')\n",
    "band_labels = [\"B4\", \"B3\", \"B2\", \"B8\"]\n",
    "images = utils.load_landsat_image(IMGS_PATH, band_labels)\n",
    "img_keys = list(images.keys())\n",
    "#obtener initial date desde el dataextractor \"POR HACER\"\n",
    "initial_date = date(2019,4,1)\n",
    "#Mandamos a llamar a la función que nos da (diferencia de dias, las fechas de las imagenes, las horas de)\n",
    "days,dates,hours = utils.images_time_info(img_keys,initial_date)\n",
    "#Generamos la fecha de la primera fotografia \n",
    "start_dt =date.fromisoformat((min(dates)).strftime(\"%Y-%m-%d\"))\n",
    "#Generamos la fecha de la ultima fotografia \n",
    "end_dt= date.fromisoformat((max(dates)).strftime(\"%Y-%m-%d\"))\n",
    "\n",
    "#Llamamos a la función que nos genera un diccionario de las fechas de interes para datos de temperatura y precipitacion\n",
    "#Donde regresa el diccionario de fechas y los valores de temp y precip\n",
    "data_aa,date_dic = utils.temperature_precipitation_api(date_min=start_dt, date_max=end_dt,hours=hours)\n",
    "#Este es opcional y es para dar un numpy.ndarray para los valores de temp y preci \n",
    "data_prep,data_temp=utils.values_temp_precip(dict_data=data_aa)\n",
    "\n",
    "#Ahora generamos un diccionario con las fechas y sus valores correspondientes de temp y preci\n",
    "data_as=utils.data_extrator_temp(data_tp=data_aa,date_dict_api=date_dic )"
   ]
  },
  {
   "cell_type": "code",
   "execution_count": 6,
   "metadata": {},
   "outputs": [],
   "source": [
    "#valor temperatura\n",
    "#data_temp\n",
    "#Valor precipitacion\n",
    "#data_prep\n"
   ]
  },
  {
   "cell_type": "code",
   "execution_count": 3,
   "metadata": {},
   "outputs": [],
   "source": [
    "IMGS_PATH = ('C:/Users/ricar/Downloads/CGIT/Manitoba1-1')\n",
    "band_labels = [\"B4\", \"B3\", \"B2\", \"B8\"]\n",
    "images = utils.load_landsat_image(IMGS_PATH, band_labels)\n",
    "img_keys = list(images.keys())"
   ]
  },
  {
   "cell_type": "code",
   "execution_count": 4,
   "metadata": {},
   "outputs": [],
   "source": [
    "year=2019"
   ]
  },
  {
   "cell_type": "code",
   "execution_count": 5,
   "metadata": {},
   "outputs": [
    {
     "data": {
      "text/plain": [
       "datetime.date(2019, 4, 1)"
      ]
     },
     "execution_count": 5,
     "metadata": {},
     "output_type": "execute_result"
    }
   ],
   "source": [
    "initial_datea= date(year,4,1)\n",
    "initial_date"
   ]
  },
  {
   "cell_type": "code",
   "execution_count": null,
   "metadata": {},
   "outputs": [],
   "source": []
  }
 ],
 "metadata": {
  "kernelspec": {
   "display_name": "Python 3.9.6 64-bit",
   "language": "python",
   "name": "python3"
  },
  "language_info": {
   "codemirror_mode": {
    "name": "ipython",
    "version": 3
   },
   "file_extension": ".py",
   "mimetype": "text/x-python",
   "name": "python",
   "nbconvert_exporter": "python",
   "pygments_lexer": "ipython3",
   "version": "3.9.6"
  },
  "orig_nbformat": 4,
  "vscode": {
   "interpreter": {
    "hash": "81794d4967e6c3204c66dcd87b604927b115b27c00565d3d43f05ba2f3a2cb0d"
   }
  }
 },
 "nbformat": 4,
 "nbformat_minor": 2
}
