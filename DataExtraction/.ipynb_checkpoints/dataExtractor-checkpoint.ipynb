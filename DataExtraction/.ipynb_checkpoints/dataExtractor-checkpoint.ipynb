{
 "cells": [
  {
   "cell_type": "markdown",
   "metadata": {},
   "source": [
    "# Data Extractor"
   ]
  },
  {
   "cell_type": "code",
   "execution_count": 1,
   "metadata": {},
   "outputs": [
    {
     "data": {
      "text/html": [
       "<p>To authorize access needed by Earth Engine, open the following\n",
       "        URL in a web browser and follow the instructions:</p>\n",
       "        <p><a href=https://code.earthengine.google.com/client-auth?scopes=https%3A//www.googleapis.com/auth/earthengine%20https%3A//www.googleapis.com/auth/devstorage.full_control&request_id=4CzBcburNPB6Itm_IHZZ2h14L8yBxH6w2ZdvclffZxM&tc=rjo5H-D3IFW_xvBDo5pHQysguILJBLZrE1IHidvGFog&cc=C86BAyfwHpqPiriqQRjzTp5idNsRCfJrUNN1oKy2jDo>https://code.earthengine.google.com/client-auth?scopes=https%3A//www.googleapis.com/auth/earthengine%20https%3A//www.googleapis.com/auth/devstorage.full_control&request_id=4CzBcburNPB6Itm_IHZZ2h14L8yBxH6w2ZdvclffZxM&tc=rjo5H-D3IFW_xvBDo5pHQysguILJBLZrE1IHidvGFog&cc=C86BAyfwHpqPiriqQRjzTp5idNsRCfJrUNN1oKy2jDo</a></p>\n",
       "        <p>The authorization workflow will generate a code, which you should paste in the box below.</p>\n",
       "        "
      ],
      "text/plain": [
       "<IPython.core.display.HTML object>"
      ]
     },
     "metadata": {},
     "output_type": "display_data"
    },
    {
     "name": "stdout",
     "output_type": "stream",
     "text": [
      "Enter verification code: 4/1AdQt8qg2wAxf7whBOuESF5zgtO7KT0ldIA4BMaWsJWd_ZsqlWd-sHYFiHfs\n",
      "\n",
      "Successfully saved authorization token.\n"
     ]
    }
   ],
   "source": [
    "import ee\n",
    "ee.Initialize()\n",
    "ee.Authenticate()\n",
    "import folium\n",
    "import geemap\n",
    "import os"
   ]
  },
  {
   "cell_type": "code",
   "execution_count": 3,
   "metadata": {},
   "outputs": [],
   "source": [
    "# Parameters.\n",
    "database = \"COPERNICUS/S2_SR_HARMONIZED\"\n",
    "# Dates.\n",
    "start_date = \"2021-08-01\"\n",
    "end_date = \"2021-11-01\"\n",
    "\n",
    "# Select the data from \n",
    "locations = {\n",
    "    \"Germany\" : {\n",
    "        \"lat1\" : 52.845868,\n",
    "        \"alt1\" : 7.982089,\n",
    "        \"lat2\" : 52.902952, \n",
    "        \"alt2\" : 10.794762,\n",
    "        \"lat3\" : 51.715790,\n",
    "        \"alt3\" : 10.926618,\n",
    "        \"lat4\" : 51.735407,\n",
    "        \"alt4\" : 7.877368 ,\n",
    "    }\n",
    "}\n",
    "\n",
    "# Locations.\n",
    "location_bounds = []"
   ]
  },
  {
   "cell_type": "code",
   "execution_count": 18,
   "metadata": {},
   "outputs": [],
   "source": [
    "def interest_zone(coordinates: dict = None):\n",
    "    lat = (coordinates[\"lat2\"] - coordinates[\"lat1\"]) + coordinates[\"lat1\"]\n",
    "    lon = (coordinates[\"alt1\"] - coordinates[\"alt4\"]) + coordinates[\"alt4\"]\n",
    "    \n",
    "    Map = geemap.Map(center = [lat,lon])\n",
    "    Map.add_basemap(\"SATELLITE\")\n",
    "    return Map"
   ]
  },
  {
   "cell_type": "code",
   "execution_count": null,
   "metadata": {},
   "outputs": [],
   "source": [
    "# Split the map through time to visually compare the crop cycle. "
   ]
  },
  {
   "cell_type": "code",
   "execution_count": 20,
   "metadata": {},
   "outputs": [
    {
     "data": {
      "application/vnd.jupyter.widget-view+json": {
       "model_id": "4c28b0fc825543ad8d338a31a6daa8f3",
       "version_major": 2,
       "version_minor": 0
      },
      "text/plain": [
       "Map(center=[52.902952, 7.982089], controls=(WidgetControl(options=['position', 'transparent_bg'], widget=HBox(…"
      ]
     },
     "execution_count": 20,
     "metadata": {},
     "output_type": "execute_result"
    }
   ],
   "source": [
    "M = interest_zone(locations[\"Germany\"])\n",
    "M"
   ]
  },
  {
   "cell_type": "code",
   "execution_count": null,
   "metadata": {},
   "outputs": [],
   "source": [
    "# Defines a polygon with the given (x,y) coordinates.\n",
    "loc = ee.Geometry.Polygon(location_bounds)\n",
    "\n",
    "# Imagecollection is a stack of images. Can be loaded by pasting an Earth Engine asset ID.\n",
    "collection = (\n",
    "    ee.ImageCollection(database)\n",
    "    .filterBounds(loc)\n",
    "    .filterDate(start_date, end_date)\n",
    ")"
   ]
  },
  {
   "cell_type": "code",
   "execution_count": null,
   "metadata": {},
   "outputs": [],
   "source": [
    "out_dir = os.path.join(os.path.expanduser('~'), 'Downloads')"
   ]
  },
  {
   "cell_type": "code",
   "execution_count": null,
   "metadata": {},
   "outputs": [],
   "source": [
    "print(collection.aggregate_array('system:index').getInfo())"
   ]
  },
  {
   "cell_type": "code",
   "execution_count": null,
   "metadata": {},
   "outputs": [],
   "source": [
    "geemap.ee_export_image_collection(collection, out_dir=out_dir)"
   ]
  },
  {
   "cell_type": "code",
   "execution_count": null,
   "metadata": {},
   "outputs": [],
   "source": [
    "geemap.ee_export_image_collection_to_drive(collection, folder='ClimateAI_ImageDirectory', scale=10)"
   ]
  }
 ],
 "metadata": {
  "kernelspec": {
   "display_name": "Python 3 (ipykernel)",
   "language": "python",
   "name": "python3"
  },
  "language_info": {
   "codemirror_mode": {
    "name": "ipython",
    "version": 3
   },
   "file_extension": ".py",
   "mimetype": "text/x-python",
   "name": "python",
   "nbconvert_exporter": "python",
   "pygments_lexer": "ipython3",
   "version": "3.8.10"
  },
  "vscode": {
   "interpreter": {
    "hash": "9ddfd1c309174266b0ba4c5427a43cfefa116d0b96facd961e6d5ba2d63c7662"
   }
  }
 },
 "nbformat": 4,
 "nbformat_minor": 2
}
