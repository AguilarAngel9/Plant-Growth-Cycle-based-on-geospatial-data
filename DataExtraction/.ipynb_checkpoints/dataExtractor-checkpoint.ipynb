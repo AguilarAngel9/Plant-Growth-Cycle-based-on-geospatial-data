{
 "cells": [
  {
   "cell_type": "markdown",
   "id": "bd0f965a",
   "metadata": {},
   "source": [
    "# Data Extractor"
   ]
  },
  {
   "cell_type": "code",
   "execution_count": 1,
   "id": "a8f68704",
   "metadata": {},
   "outputs": [],
   "source": [
    "# TODO: Use the json secrets for initialize earth engine (json key for service account)\n",
    "# service_account = 'tec-semester@plantgrowthcycle.iam.gserviceaccount.com'\n",
    "# credentials = ee.ServiceAccountCredentials(service_account, 'plantgrowthcycle-8e4112c2f80a.json')\n",
    "# ee.Initialize(credentials)"
   ]
  },
  {
   "cell_type": "code",
   "execution_count": 2,
   "id": "e61c1594",
   "metadata": {},
   "outputs": [
    {
     "data": {
      "text/html": [
       "<p>To authorize access needed by Earth Engine, open the following\n",
       "        URL in a web browser and follow the instructions:</p>\n",
       "        <p><a href=https://code.earthengine.google.com/client-auth?scopes=https%3A//www.googleapis.com/auth/earthengine%20https%3A//www.googleapis.com/auth/devstorage.full_control&request_id=Elr7sF5lLpeGnoR56olgXoDszF8gG_o3ZtwEE2pT5XQ&tc=c1u6Axna68Y3VNoivsW4qQhTd98DPncWoaP8Sz7QdDs&cc=twLXQ9_2WwkaqsMzlR4LYCPqhJ1oin3g3kzRk6t-HIU>https://code.earthengine.google.com/client-auth?scopes=https%3A//www.googleapis.com/auth/earthengine%20https%3A//www.googleapis.com/auth/devstorage.full_control&request_id=Elr7sF5lLpeGnoR56olgXoDszF8gG_o3ZtwEE2pT5XQ&tc=c1u6Axna68Y3VNoivsW4qQhTd98DPncWoaP8Sz7QdDs&cc=twLXQ9_2WwkaqsMzlR4LYCPqhJ1oin3g3kzRk6t-HIU</a></p>\n",
       "        <p>The authorization workflow will generate a code, which you should paste in the box below.</p>\n",
       "        "
      ],
      "text/plain": [
       "<IPython.core.display.HTML object>"
      ]
     },
     "metadata": {},
     "output_type": "display_data"
    },
    {
     "name": "stdout",
     "output_type": "stream",
     "text": [
      "Enter verification code: 4/1ARtbsJow5byirbSgB8hR1j-vSLAEKe-t7I8M-eCyAnR0TFc7W1gKBjmTxV4\n",
      "\n",
      "Successfully saved authorization token.\n"
     ]
    }
   ],
   "source": [
    "import ee\n",
    "ee.Initialize()\n",
    "ee.Authenticate()\n",
    "import geetools\n",
    "import geemap\n",
    "import os"
   ]
  },
  {
   "cell_type": "code",
   "execution_count": 3,
   "id": "678150a0",
   "metadata": {},
   "outputs": [],
   "source": [
    "class DataExtractor():\n",
    "    \n",
    "    def __init__(self, data_collection, start_date, end_date, bands):\n",
    "        self.data_collection = data_collection\n",
    "        self.start_date = start_date\n",
    "        self.end_date = end_date\n",
    "        self.bands = bands\n",
    "        self.point = None\n",
    "        self.region = None\n",
    "        self.image_collection = None\n",
    "        self.Map = None\n",
    " \n",
    "    def set_point(self, point):\n",
    "        self.point = point\n",
    "        \n",
    "    def set_interest_region(self, meters):\n",
    "        \"\"\" \n",
    "        Select an arbitrary point and a distance in (meters),\n",
    "        to construct a rectangle centered on the given point.\n",
    "        \"\"\"\n",
    "        point = ee.Geometry.Point(self.point)        \n",
    "        self.region = point.buffer(meters).bounds()\n",
    "        \n",
    "        Map = geemap.Map()\n",
    "        Map.setCenter(self.point[0], self.point[1])\n",
    "        Map.addLayer(point,\n",
    "             {'color': 'black'},\n",
    "             'Geometry [black]: point')\n",
    "        \n",
    "        Map.addLayer(self.region)\n",
    "        \n",
    "        self.Map = Map\n",
    "        \n",
    "        return self.Map\n",
    "\n",
    "    def get_data_visualization(self):\n",
    "        \"\"\" Get the Earth Engine image collection with the desired characteristics \"\"\"\n",
    "        self.image_collection = (\n",
    "            ee.ImageCollection(self.data_collection)\n",
    "            .select(self.bands)\n",
    "            .filterBounds(self.region)\n",
    "            .filterDate(self.start_date, self.end_date)\n",
    "            .filter(ee.Filter.lt('CLOUDY_PIXEL_PERCENTAGE', 30))\n",
    "        )\n",
    "        \n",
    "        print(f'The size of the collection is: {self.image_collection.size().getInfo()}')\n",
    "\n",
    "        visualization = {\n",
    "            \"bands\" : self.bands,\n",
    "            \"min\": 300, \n",
    "            \"max\": 3500\n",
    "        }\n",
    "\n",
    "        self.Map.addLayer(\n",
    "            ee_object=self.image_collection, \n",
    "            vis_params=visualization,\n",
    "            name=\"Sentinel-2\",\n",
    "            shown=False)\n",
    "\n",
    "        self.Map.add_time_slider(\n",
    "            ee_object=self.image_collection,\n",
    "            vis_params=visualization,\n",
    "            time_interval=5\n",
    "        )\n",
    "    \n",
    "    def extract_data(self):\n",
    "        \"\"\" Iterates over the ImageCollection and send the images to Drive \"\"\"        \n",
    "        for band in self.bands:\n",
    "            extra = dict(sat=\"S-HARMONIZED\", band=band)\n",
    "            geetools.batch.Export.imagecollection.toDrive(\n",
    "                collection=self.image_collection.select(band),\n",
    "                region=self.region,\n",
    "                namePattern=\"{sat}_{id}_{system_date}_{band}\",\n",
    "                datePattern = \"ddMMMy\",\n",
    "                dataType=\"int\",\n",
    "                folder=\"ClimateData_test\",\n",
    "                extra=extra,\n",
    "                verbose=True\n",
    "            )"
   ]
  },
  {
   "cell_type": "code",
   "execution_count": 4,
   "id": "3b5b08ca",
   "metadata": {},
   "outputs": [],
   "source": [
    "# Parameters.\n",
    "data_collection = \"COPERNICUS/S2_SR_HARMONIZED\"\n",
    "# Time windows.\n",
    "start_date = \"2021-08-01\"\n",
    "# start_date = \"2020-04-15\"\n",
    "end_date = \"2021-09-01\"\n",
    "# end_date = \"2020-11-01\"\n",
    "# Color bands.\n",
    "bands =  [\"B4\",\"B3\",\"B2\"] # RGB channels.\n",
    "# Coordinates\n",
    "coordinates = {\n",
    "    \"Germany\" : {\n",
    "        \"0\" : [10.109178, 52.295949],\n",
    "    } ,\n",
    "    \"Iowa\" : {\n",
    "        \"0\" : [-91.47321072391104, 41.87728596488476],\n",
    "    }\n",
    "}"
   ]
  },
  {
   "cell_type": "code",
   "execution_count": 5,
   "id": "74901b90",
   "metadata": {},
   "outputs": [
    {
     "data": {
      "application/vnd.jupyter.widget-view+json": {
       "model_id": "7b4cccee4bc54cf684307cd4d73c913b",
       "version_major": 2,
       "version_minor": 0
      },
      "text/plain": [
       "Map(center=[52.295949, 10.109178], controls=(WidgetControl(options=['position', 'transparent_bg'], widget=HBox…"
      ]
     },
     "execution_count": 5,
     "metadata": {},
     "output_type": "execute_result"
    }
   ],
   "source": [
    "# Call the DataExtractorClass.\n",
    "D = DataExtractor(\n",
    "    data_collection=data_collection,\n",
    "    start_date=start_date,\n",
    "    end_date=end_date,\n",
    "    bands=bands\n",
    ")\n",
    "\n",
    "D.set_point(coordinates[\"Germany\"][\"0\"])\n",
    "D.set_interest_region(2000)"
   ]
  },
  {
   "cell_type": "code",
   "execution_count": 6,
   "id": "123dc38e",
   "metadata": {},
   "outputs": [
    {
     "name": "stdout",
     "output_type": "stream",
     "text": [
      "The size of the collection is: 3\n"
     ]
    }
   ],
   "source": [
    "D.get_data_visualization()"
   ]
  },
  {
   "cell_type": "code",
   "execution_count": 7,
   "id": "7d011f79",
   "metadata": {},
   "outputs": [
    {
     "name": "stdout",
     "output_type": "stream",
     "text": [
      "exporting S-HARMONIZED_20210812T102559_20210812T103532_T32UND_12Aug2021_B4 to folder 'ClimateData_test' in GDrive\n",
      "exporting S-HARMONIZED_20210814T102031_20210814T102609_T32UNC_14Aug2021_B4 to folder 'ClimateData_test' in GDrive\n",
      "exporting S-HARMONIZED_20210814T102031_20210814T102609_T32UND_14Aug2021_B4 to folder 'ClimateData_test' in GDrive\n",
      "exporting S-HARMONIZED_20210812T102559_20210812T103532_T32UND_12Aug2021_B3 to folder 'ClimateData_test' in GDrive\n",
      "exporting S-HARMONIZED_20210814T102031_20210814T102609_T32UNC_14Aug2021_B3 to folder 'ClimateData_test' in GDrive\n",
      "exporting S-HARMONIZED_20210814T102031_20210814T102609_T32UND_14Aug2021_B3 to folder 'ClimateData_test' in GDrive\n",
      "exporting S-HARMONIZED_20210812T102559_20210812T103532_T32UND_12Aug2021_B2 to folder 'ClimateData_test' in GDrive\n",
      "exporting S-HARMONIZED_20210814T102031_20210814T102609_T32UNC_14Aug2021_B2 to folder 'ClimateData_test' in GDrive\n",
      "exporting S-HARMONIZED_20210814T102031_20210814T102609_T32UND_14Aug2021_B2 to folder 'ClimateData_test' in GDrive\n"
     ]
    }
   ],
   "source": [
    "D.extract_data()"
   ]
  }
 ],
 "metadata": {
  "kernelspec": {
   "display_name": "Python 3 (ipykernel)",
   "language": "python",
   "name": "python3"
  },
  "language_info": {
   "codemirror_mode": {
    "name": "ipython",
    "version": 3
   },
   "file_extension": ".py",
   "mimetype": "text/x-python",
   "name": "python",
   "nbconvert_exporter": "python",
   "pygments_lexer": "ipython3",
   "version": "3.8.10"
  },
  "vscode": {
   "interpreter": {
    "hash": "9ddfd1c309174266b0ba4c5427a43cfefa116d0b96facd961e6d5ba2d63c7662"
   }
  }
 },
 "nbformat": 4,
 "nbformat_minor": 5
}
