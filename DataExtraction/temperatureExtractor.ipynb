{
 "cells": [
  {
   "cell_type": "code",
   "execution_count": 1,
   "metadata": {},
   "outputs": [],
   "source": [
    "\n",
    "from datetime import datetime, timedelta\n",
    "from datetime import timedelta, date\n",
    "from calendar import monthrange\n",
    "from ast import Dict\n",
    "import matplotlib.pyplot as plt\n",
    "import xarray as xr\n",
    "import cdsapi\n",
    "import utils\n"
   ]
  },
  {
   "cell_type": "code",
   "execution_count": 2,
   "metadata": {},
   "outputs": [],
   "source": [
    "\n",
    "start_dt = date(2019,4, 16)\n",
    "end_dt = date(2019, 10, 28)\n",
    "\n",
    "#Function that returns a the days between two dates (the inicial date and the las date)\n",
    "def date_range(date_min, date_max):\n",
    "    #GWe generate a for to iterate through the correct range of dates.\n",
    "    for difference_between_dates in range(int ((date_max - date_min).days)+1):\n",
    "        #Use yield to return the dates given by the difference starting at date_min and ending at date_max\n",
    "        yield date_min + timedelta(difference_between_dates)\n",
    "\n",
    "\n",
    "#Create the list for the data(year,month,day,hour)\n",
    "year_list=[]\n",
    "month_list=[]\n",
    "day_list=[]\n",
    "hour_list=[]\n",
    "\n",
    "#En este for se generan las listas\n",
    "for dt in date_range(start_dt, end_dt):\n",
    "    year_list.append((dt.strftime(\"%Y\")))\n",
    "    month_list.append((dt.strftime(\"%m\")))\n",
    "    day_list.append((dt.strftime(\"%d\")))\n",
    "    hour_list.append((dt.strftime(\"%H:%M\")))\n",
    "#Lists corresponding to the api data sorted and correctly formatted\n",
    "    \n",
    "list_year=(','.join(sorted(set(year_list))))\n",
    "list_month=(','.join(sorted(set(month_list))))\n",
    "list_day=(','.join(sorted(set(day_list))))\n",
    "list_hour=(','.join(sorted(set(hour_list))))"
   ]
  },
  {
   "cell_type": "code",
   "execution_count": 3,
   "metadata": {},
   "outputs": [],
   "source": [
    "end_dt = date(2019, 10, 28)\n",
    "\n",
    "#Function that returns a the days between two dates (the inicial date and the las date)\n",
    "def date_range(date_min, date_max):\n",
    "    #GWe generate a for to iterate through the correct range of dates.\n",
    "    for difference_between_dates in range(int ((date_max - date_min).days)+1):\n",
    "        #Use yield to return the dates given by the difference starting at date_min and ending at date_max\n",
    "        yield date_min + timedelta(difference_between_dates)\n",
    "\n",
    "\n",
    "#Create the list for the data(year,month,day,hour)\n",
    "year_list=[]\n",
    "month_list=[]\n",
    "day_list=[]\n",
    "hour_list=[]\n",
    "\n",
    "#En este for se generan las listas\n",
    "for dt in date_range(start_dt, end_dt):\n",
    "    year_list.append((dt.strftime(\"%Y\")))\n",
    "    month_list.append((dt.strftime(\"%m\")))\n",
    "    day_list.append((dt.strftime(\"%d\")))\n",
    "    hour_list.append((dt.strftime(\"%H:%M\")))\n",
    "#Lists corresponding to the api data sorted and correctly formatted\n",
    "    \n",
    "list_year=(','.join(sorted(set(year_list))))\n",
    "list_month=(','.join(sorted(set(month_list))))\n",
    "list_day=(','.join(sorted(set(day_list))))\n",
    "list_hour=(','.join(sorted(set(hour_list))))"
   ]
  },
  {
   "cell_type": "code",
   "execution_count": 4,
   "metadata": {},
   "outputs": [
    {
     "name": "stderr",
     "output_type": "stream",
     "text": [
      "2022-11-01 23:59:53,021 INFO Welcome to the CDS\n",
      "2022-11-01 23:59:53,021 INFO Sending request to https://cds.climate.copernicus.eu/api/v2/resources/reanalysis-era5-single-levels\n",
      "2022-11-01 23:59:53,262 INFO Request is completed\n",
      "2022-11-01 23:59:53,264 INFO Downloading https://download-0015-clone.copernicus-climate.eu/cache-compute-0015/cache/data8/adaptor.mars.internal-1667334726.1452527-29236-6-b3402a1d-c374-4275-87f5-5fca7a1eacf1.nc to download.nc (3K)\n",
      "2022-11-01 23:59:54,125 INFO Download rate 3.5K/s\n"
     ]
    },
    {
     "data": {
      "text/plain": [
       "Result(content_length=3084,content_type=application/x-netcdf,location=https://download-0015-clone.copernicus-climate.eu/cache-compute-0015/cache/data8/adaptor.mars.internal-1667334726.1452527-29236-6-b3402a1d-c374-4275-87f5-5fca7a1eacf1.nc)"
      ]
     },
     "execution_count": 4,
     "metadata": {},
     "output_type": "execute_result"
    }
   ],
   "source": [
    "\n",
    "#url: https://cds.climate.copernicus.eu/api/v2\n",
    "#key: 159276:b225e1d7-1242-4152-8576-ce50852fbd4e\n",
    "\n",
    "c = cdsapi.Client()\n",
    "\n",
    "c.retrieve(\n",
    "    'reanalysis-era5-single-levels',\n",
    "    {\n",
    "        'product_type': 'reanalysis',\n",
    "        'variable': [\n",
    "            'soil_temperature_level_1', 'total_precipitation',\n",
    "        ],\n",
    "        'year': sorted(set(year_list))\n",
    "        ,\n",
    "        'month': sorted(set(month_list))\n",
    "        ,\n",
    "        'day': sorted(set(day_list))\n",
    "        ,\n",
    "        'time': [\n",
    "            '17:00', \n",
    "            #13\n",
    "        ],\n",
    "        'area': [\n",
    "            \n",
    "            38.1445082027146, -97.72654627101196, 38.142173460759004,\n",
    "            -97.72096882266754,\n",
    "        ],\n",
    "        'format': 'netcdf',\n",
    "    },\n",
    "    'download.nc')"
   ]
  },
  {
   "cell_type": "code",
   "execution_count": 5,
   "metadata": {},
   "outputs": [],
   "source": [
    "\n",
    "#Abrimos la informacion\n",
    "data_tp=xr.open_dataset('download.nc')"
   ]
  },
  {
   "cell_type": "code",
   "execution_count": 6,
   "metadata": {},
   "outputs": [],
   "source": [
    "\n",
    "\n",
    "\n",
    "def data_extrator_temp(\n",
    "    data_tp,\n",
    ") -> Dict:\n",
    "    year_2019 = {}\n",
    "    year = 2019\n",
    "    # Temperature.\n",
    "    temperature = data_tp['stl1'].values.ravel()\n",
    "    # Precipitation.\n",
    "    precipitation = data_tp['tp'].values.ravel()\n",
    "\n",
    "    # Ordered month.\n",
    "    months = list(set([x.to_pydatetime().month for x  in data_tp['time'].to_series()]))\n",
    "\n",
    "    #Iteration to aggregate the corresponding values per month(day and temp values are added),\n",
    "    for month in sorted(months):\n",
    "        #number of days in a month,\n",
    "        month_range = monthrange(year, month)[1]\n",
    "\n",
    "        #Generate days in the month.\n",
    "        days = [x + 1 for x in range(month_range)]\n",
    "\n",
    "        # number of temperature and precipitation data per day ().\n",
    "        n_data= len(set([x.to_pydatetime().hour for x  in data_tp['time'].to_series()]))\n",
    "\n",
    "\n",
    "        month_temp = {}\n",
    "\n",
    "        # Get the temp\n",
    "        for day in days:\n",
    "\n",
    "            #gives the value for temperature and precipitation per hour.\n",
    "            values_per_hour = {'temperature' : temperature[0:n_data], 'precipitation' : precipitation[0:n_data]}\n",
    "\n",
    "            #Take the corresponding values per day for temperature and precipitation.\n",
    "            temperature = temperature[n_data:]\n",
    "            precipitation = precipitation[n_data:]\n",
    "\n",
    "            #Updates the dictionary and adds the previously calculated values.\n",
    "            month_temp.update(\n",
    "            {day : values_per_hour}\n",
    "            )\n",
    "        #adds the information of months, days and their temperature and precipitation data  to the main dictionary.\n",
    "        year_2019.update({\n",
    "            month : month_temp\n",
    "        })\n",
    "    return year_2019"
   ]
  },
  {
   "cell_type": "code",
   "execution_count": 7,
   "metadata": {},
   "outputs": [
    {
     "name": "stdout",
     "output_type": "stream",
     "text": [
      "[1.1641532e-10]\n",
      "[1.1641532e-10]\n",
      "[2.3234985e-05]\n",
      "[9.801972e-05]\n",
      "[1.1641532e-10]\n",
      "[1.9533094e-05]\n",
      "[1.1641532e-10]\n",
      "[1.1641532e-10]\n",
      "[1.1641532e-10]\n",
      "[1.1641532e-10]\n",
      "[1.1641532e-10]\n",
      "[1.1641532e-10]\n",
      "[1.1641532e-10]\n",
      "[1.1641532e-10]\n",
      "[1.1641532e-10]\n",
      "[1.1641532e-10]\n",
      "[1.1641532e-10]\n",
      "[3.6230776e-06]\n",
      "[1.1641532e-10]\n",
      "[1.1641532e-10]\n",
      "[1.1641532e-10]\n",
      "[1.1641532e-10]\n",
      "[8.2701445e-07]\n",
      "[1.1641532e-10]\n",
      "[1.1641532e-10]\n",
      "[1.1641532e-10]\n",
      "[1.1641532e-10]\n",
      "[1.1641532e-10]\n",
      "[1.9697472e-07]\n",
      "[1.3153418e-05]\n",
      "[1.1641532e-10]\n",
      "[0.00012925]\n",
      "[4.3329783e-07]\n",
      "[2.0872103e-06]\n",
      "[0.0001096]\n",
      "[0.00017659]\n",
      "[0.00258076]\n",
      "[5.0250324e-05]\n",
      "[1.1641532e-10]\n",
      "[0.00016895]\n",
      "[1.1641532e-10]\n",
      "[1.1641532e-10]\n",
      "[1.1641532e-10]\n",
      "[1.1641532e-10]\n",
      "[1.1641532e-10]\n",
      "[1.1641532e-10]\n",
      "[0.00113028]\n",
      "[1.1641532e-10]\n",
      "[0.00096098]\n",
      "[3.0008494e-05]\n",
      "[1.1641532e-10]\n",
      "[0.00159958]\n",
      "[0.00050207]\n",
      "[0.00016453]\n",
      "[0.00045568]\n",
      "[6.111956e-05]\n",
      "[0.00096472]\n",
      "[1.1641532e-10]\n",
      "[1.1641532e-10]\n",
      "[1.1641532e-10]\n",
      "[2.3313682e-05]\n",
      "[1.1641532e-10]\n",
      "[1.1641532e-10]\n",
      "[1.1641532e-10]\n",
      "[6.62785e-05]\n",
      "[1.5359838e-06]\n",
      "[1.1641532e-10]\n",
      "[3.2843906e-05]\n",
      "[1.1641532e-10]\n",
      "[1.1641532e-10]\n",
      "[1.8587918e-05]\n",
      "[1.1641532e-10]\n",
      "[1.1641532e-10]\n",
      "[1.1641532e-10]\n",
      "[1.1641532e-10]\n",
      "[2.757879e-07]\n",
      "[0.00015012]\n",
      "[8.313358e-05]\n",
      "[1.1641532e-10]\n",
      "[1.1641532e-10]\n",
      "[1.1641532e-10]\n",
      "[0.00207645]\n",
      "[1.1641532e-10]\n",
      "[1.1641532e-10]\n",
      "[1.1641532e-10]\n",
      "[1.1641532e-10]\n",
      "[1.1641532e-10]\n",
      "[1.1641532e-10]\n"
     ]
    }
   ],
   "source": [
    "K2019MVfeatures = data_extrator_temp(data_tp = data_tp)\n",
    "for i in range(4,len(K2019MVfeatures)):\n",
    "    for j in range(1,len(K2019MVfeatures[i])):\n",
    "        print(K2019MVfeatures[i][j]['precipitation'])"
   ]
  },
  {
   "cell_type": "code",
   "execution_count": 8,
   "metadata": {},
   "outputs": [],
   "source": [
    "\n",
    "year=\"2019\"\n",
    "IMGS_PATH = ('D:\\VSCode\\Repositorios\\Plant-Growth-Cycle-based-on-geospatial-data-1\\DataExtraction\\DataBase\\Kansas-'+year)\n",
    "band_labels = [\"B4\", \"B3\", \"B2\", \"B8\"]\n",
    "images = utils.load_landsat_image(IMGS_PATH, band_labels)\n",
    "img_keys = list(images.keys())\n",
    "days, timestamps_list, hours_list = utils.images_time_info(img_keys)\n"
   ]
  },
  {
   "cell_type": "code",
   "execution_count": 9,
   "metadata": {},
   "outputs": [
    {
     "name": "stdout",
     "output_type": "stream",
     "text": [
      "2019-04-05 17:08:49\n"
     ]
    },
    {
     "data": {
      "text/plain": [
       "[288.29339599609375]"
      ]
     },
     "execution_count": 9,
     "metadata": {},
     "output_type": "execute_result"
    }
   ],
   "source": [
    "xs = []\n",
    "prueba = timestamps_list[0]\n",
    "print(prueba)\n",
    "month,day = prueba.month, prueba.day\n",
    "x=float(K2019MVfeatures[month][day]['temperature'])\n",
    "xs.append(x)\n",
    "xs"
   ]
  },
  {
   "cell_type": "code",
   "execution_count": 19,
   "metadata": {},
   "outputs": [
    {
     "data": {
      "text/plain": [
       "[Timestamp('2019-04-05 17:08:49'),\n",
       " Timestamp('2019-04-08 17:18:59'),\n",
       " Timestamp('2019-04-15 17:08:59'),\n",
       " Timestamp('2019-04-18 17:18:59'),\n",
       " Timestamp('2019-04-20 17:08:51'),\n",
       " Timestamp('2019-04-25 17:08:59'),\n",
       " Timestamp('2019-04-28 17:19:09'),\n",
       " Timestamp('2019-05-05 17:08:59'),\n",
       " Timestamp('2019-05-13 17:19:01'),\n",
       " Timestamp('2019-05-15 17:08:59'),\n",
       " Timestamp('2019-05-30 17:08:51'),\n",
       " Timestamp('2019-06-02 17:19:01'),\n",
       " Timestamp('2019-06-04 17:08:59'),\n",
       " Timestamp('2019-06-07 17:19:09'),\n",
       " Timestamp('2019-06-12 17:19:01'),\n",
       " Timestamp('2019-06-14 17:08:59'),\n",
       " Timestamp('2019-06-17 17:19:09'),\n",
       " Timestamp('2019-06-24 17:08:59'),\n",
       " Timestamp('2019-06-27 17:19:09'),\n",
       " Timestamp('2019-06-29 17:09:01'),\n",
       " Timestamp('2019-07-02 17:19:01'),\n",
       " Timestamp('2019-07-07 17:19:09'),\n",
       " Timestamp('2019-07-09 17:09:01'),\n",
       " Timestamp('2019-07-12 17:19:01'),\n",
       " Timestamp('2019-07-14 17:08:59'),\n",
       " Timestamp('2019-07-17 17:19:09'),\n",
       " Timestamp('2019-07-19 17:09:01'),\n",
       " Timestamp('2019-07-22 17:19:01'),\n",
       " Timestamp('2019-07-24 17:08:59'),\n",
       " Timestamp('2019-07-27 17:19:09'),\n",
       " Timestamp('2019-07-29 17:09:01'),\n",
       " Timestamp('2019-08-01 17:19:01'),\n",
       " Timestamp('2019-08-06 17:19:09'),\n",
       " Timestamp('2019-08-11 17:19:01'),\n",
       " Timestamp('2019-08-13 17:08:59'),\n",
       " Timestamp('2019-08-18 17:08:51'),\n",
       " Timestamp('2019-08-23 17:08:59'),\n",
       " Timestamp('2019-08-28 17:08:51'),\n",
       " Timestamp('2019-09-02 17:08:49'),\n",
       " Timestamp('2019-09-05 17:18:59'),\n",
       " Timestamp('2019-09-07 17:08:51'),\n",
       " Timestamp('2019-09-10 17:19:01'),\n",
       " Timestamp('2019-09-15 17:19:29'),\n",
       " Timestamp('2019-09-17 17:09:41'),\n",
       " Timestamp('2019-09-22 17:10:19'),\n",
       " Timestamp('2019-09-25 17:20:49'),\n",
       " Timestamp('2019-09-27 17:10:51'),\n",
       " Timestamp('2019-09-30 17:21:21'),\n",
       " Timestamp('2019-10-05 17:21:59'),\n",
       " Timestamp('2019-10-07 17:12:11'),\n",
       " Timestamp('2019-10-12 17:12:39'),\n",
       " Timestamp('2019-10-15 17:23:09'),\n",
       " Timestamp('2019-10-17 17:13:21'),\n",
       " Timestamp('2019-10-22 17:13:49'),\n",
       " Timestamp('2019-10-25 17:24:09'),\n",
       " Timestamp('2019-10-27 17:14:21')]"
      ]
     },
     "execution_count": 19,
     "metadata": {},
     "output_type": "execute_result"
    },
    {
     "data": {
      "image/png": "[encoded data removed]",
      "text/plain": [
       "<Figure size 640x480 with 1 Axes>"
      ]
     },
     "metadata": {},
     "output_type": "display_data"
    },
    {
     "data": {
      "image/png": "[encoded data removed]",
      "text/plain": [
       "<Figure size 640x480 with 1 Axes>"
      ]
     },
     "metadata": {},
     "output_type": "display_data"
    }
   ],
   "source": [
    "from typing import List, Tuple\n",
    "#K2019MVfeatures \n",
    "\n",
    "def get_temp_and_preci(\n",
    "    dict_from_temp_extractor: Dict,\n",
    "    timestamps_list : List\n",
    ") -> Tuple[List[float],List[float]]:\n",
    "    \"\"\"\n",
    "    Retrieves values of temperature and precipitation according to the timestamps of\n",
    "    our original images from dictionary obtained by the API.\n",
    "    \"\"\"\n",
    "    # Lists of precipitation and temperature.    \n",
    "    preci = []\n",
    "    temp = []\n",
    "    \n",
    "    # Iterate over the timestamps list.\n",
    "    for timestamp in timestamps_list:\n",
    "        try:\n",
    "            # Keys obtained to search in dict.\n",
    "            month,day = timestamp.month, timestamp.day\n",
    "            # Searches for data in dict.\n",
    "            t_data = float(dict_from_temp_extractor[month][day]['temperature'])\n",
    "            p_data = float(dict_from_temp_extractor[month][day]['precipitation'])\n",
    "            # Adds to lists.\n",
    "            temp.append(t_data)\n",
    "            preci.append(p_data)\n",
    "        \n",
    "        except:\n",
    "            break\n",
    "    return temp, preci\n",
    "temp, preci = get_temp_and_preci(K2019MVfeatures,timestamps_list)\n",
    "plt.plot(days,temp)\n",
    "plt.figure()\n",
    "plt.plot(days,preci)\n",
    "type(timestamps_list[0])\n",
    "timestamps_list"
   ]
  },
  {
   "cell_type": "code",
   "execution_count": 11,
   "metadata": {},
   "outputs": [
    {
     "data": {
      "text/plain": [
       "[1.1641532182693481e-10,\n",
       " 1.1641532182693481e-10,\n",
       " 1.1641532182693481e-10,\n",
       " 3.6230776458978653e-06,\n",
       " 1.1641532182693481e-10,\n",
       " 1.1641532182693481e-10,\n",
       " 1.1641532182693481e-10,\n",
       " 2.0872103050351143e-06,\n",
       " 1.1641532182693481e-10,\n",
       " 1.1641532182693481e-10,\n",
       " 1.1641532182693481e-10,\n",
       " 2.3313681595027447e-05,\n",
       " 1.1641532182693481e-10,\n",
       " 1.535983756184578e-06,\n",
       " 1.8587918020784855e-05,\n",
       " 1.1641532182693481e-10,\n",
       " 2.757878974080086e-07,\n",
       " 1.1641532182693481e-10,\n",
       " 1.1641532182693481e-10,\n",
       " 1.1641532182693481e-10,\n",
       " 1.1641532182693481e-10,\n",
       " 0.00018438254483044147,\n",
       " 9.058276191353798e-07,\n",
       " 1.1641532182693481e-10,\n",
       " 1.1641532182693481e-10,\n",
       " 1.1641532182693481e-10,\n",
       " 1.1641532182693481e-10,\n",
       " 1.1641532182693481e-10,\n",
       " 1.1641532182693481e-10,\n",
       " 1.1641532182693481e-10,\n",
       " 1.1641532182693481e-10,\n",
       " 1.1641532182693481e-10,\n",
       " 9.058276191353798e-07,\n",
       " 1.1641532182693481e-10,\n",
       " 1.1641532182693481e-10,\n",
       " 5.513429641723633e-06,\n",
       " 4.335865378379822e-05,\n",
       " 1.1641532182693481e-10,\n",
       " 1.1641532182693481e-10,\n",
       " 1.1641532182693481e-10,\n",
       " 1.1641532182693481e-10,\n",
       " 1.1641532182693481e-10,\n",
       " 1.1641532182693481e-10,\n",
       " 1.1641532182693481e-10,\n",
       " 2.8355279937386513e-06,\n",
       " 7.380032911896706e-05,\n",
       " 1.1641532182693481e-10,\n",
       " 1.1641532182693481e-10,\n",
       " 1.575332134962082e-06,\n",
       " 1.1641532182693481e-10,\n",
       " 1.1641532182693481e-10,\n",
       " 1.1641532182693481e-10,\n",
       " 1.1641532182693481e-10,\n",
       " 1.1641532182693481e-10,\n",
       " 1.1641532182693481e-10,\n",
       " 1.1641532182693481e-10]"
      ]
     },
     "execution_count": 11,
     "metadata": {},
     "output_type": "execute_result"
    }
   ],
   "source": [
    "preci"
   ]
  },
  {
   "cell_type": "code",
   "execution_count": 12,
   "metadata": {},
   "outputs": [
    {
     "data": {
      "text/plain": [
       "[<matplotlib.lines.Line2D at 0x127bdfcb0a0>]"
      ]
     },
     "execution_count": 12,
     "metadata": {},
     "output_type": "execute_result"
    },
    {
     "data": {
      "image/png": "[encoded data removed]",
      "text/plain": [
       "<Figure size 640x480 with 1 Axes>"
      ]
     },
     "metadata": {},
     "output_type": "display_data"
    }
   ],
   "source": [
    "\n",
    "import matplotlib.pyplot as plt\n",
    "plt.plot(temp)"
   ]
  }
 ],
 "metadata": {
  "kernelspec": {
   "display_name": "Python 3.10.7 64-bit",
   "language": "python",
   "name": "python3"
  },
  "language_info": {
   "codemirror_mode": {
    "name": "ipython",
    "version": 3
   },
   "file_extension": ".py",
   "mimetype": "text/x-python",
   "name": "python",
   "nbconvert_exporter": "python",
   "pygments_lexer": "ipython3",
   "version": "3.10.7"
  },
  "orig_nbformat": 4,
  "vscode": {
   "interpreter": {
    "hash": "2469a70536e4d2335a2ea8907942d0699c37342a371ac185bdb5b0aa6f073890"
   }
  }
 },
 "nbformat": 4,
 "nbformat_minor": 2
}
