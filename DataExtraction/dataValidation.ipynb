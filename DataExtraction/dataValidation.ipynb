{
 "cells": [
  {
   "cell_type": "markdown",
   "metadata": {},
   "source": [
    "# Traceability of information"
   ]
  },
  {
   "cell_type": "markdown",
   "metadata": {},
   "source": [
    "One of the main drawbacks of the data is its traceability. To ensure the quality of the data, we perform an analysis over time to look for jumps in the images (matrices), i.e. we have to make sure that there are no big jumps from one image to another so that if we run a time movie, progressive variations in the data channels are observed."
   ]
  },
  {
   "cell_type": "code",
   "execution_count": 1,
   "metadata": {},
   "outputs": [],
   "source": [
    "import utils\n",
    "import earthpy.plot as ep\n",
    "import numpy as np\n",
    "import matplotlib.pyplot as plt\n",
    "import re\n",
    "\n",
    "from datetime import datetime\n",
    "from typing import Union, List, Dict, Tuple"
   ]
  },
  {
   "cell_type": "code",
   "execution_count": 2,
   "metadata": {},
   "outputs": [
    {
     "name": "stdout",
     "output_type": "stream",
     "text": [
      "Opening file /home/aargaez/Downloads/Plant-Growth-Cycle-based-on-geospatial-data/WisconsinData/Wisconsin/S-HARMONIZED_20210719T163901_20210719T164027_T16TCN_19Jul2021_B4.tif\n",
      "Opening file /home/aargaez/Downloads/Plant-Growth-Cycle-based-on-geospatial-data/WisconsinData/Wisconsin/S-HARMONIZED_20210719T163901_20210719T164027_T16TCN_19Jul2021_B3.tif\n",
      "Opening file /home/aargaez/Downloads/Plant-Growth-Cycle-based-on-geospatial-data/WisconsinData/Wisconsin/S-HARMONIZED_20210719T163901_20210719T164027_T16TCN_19Jul2021_B2.tif\n",
      "Opening file /home/aargaez/Downloads/Plant-Growth-Cycle-based-on-geospatial-data/WisconsinData/Wisconsin/S-HARMONIZED_20210622T164901_20210622T165949_T16TCN_22Jun2021_B4.tif\n",
      "Opening file /home/aargaez/Downloads/Plant-Growth-Cycle-based-on-geospatial-data/WisconsinData/Wisconsin/S-HARMONIZED_20210622T164901_20210622T165949_T16TCN_22Jun2021_B3.tif\n",
      "Opening file /home/aargaez/Downloads/Plant-Growth-Cycle-based-on-geospatial-data/WisconsinData/Wisconsin/S-HARMONIZED_20210622T164901_20210622T165949_T16TCN_22Jun2021_B2.tif\n",
      "Opening file /home/aargaez/Downloads/Plant-Growth-Cycle-based-on-geospatial-data/WisconsinData/Wisconsin/S-HARMONIZED_20211017T164311_20211017T164947_T16TCN_17Oct2021_B4.tif\n",
      "Opening file /home/aargaez/Downloads/Plant-Growth-Cycle-based-on-geospatial-data/WisconsinData/Wisconsin/S-HARMONIZED_20211017T164311_20211017T164947_T16TCN_17Oct2021_B3.tif\n",
      "Opening file /home/aargaez/Downloads/Plant-Growth-Cycle-based-on-geospatial-data/WisconsinData/Wisconsin/S-HARMONIZED_20211017T164311_20211017T164947_T16TCN_17Oct2021_B2.tif\n",
      "Opening file /home/aargaez/Downloads/Plant-Growth-Cycle-based-on-geospatial-data/WisconsinData/Wisconsin/S-HARMONIZED_20210915T164839_20210915T165906_T16TCN_15Sep2021_B4.tif\n",
      "Opening file /home/aargaez/Downloads/Plant-Growth-Cycle-based-on-geospatial-data/WisconsinData/Wisconsin/S-HARMONIZED_20210915T164839_20210915T165906_T16TCN_15Sep2021_B3.tif\n",
      "Opening file /home/aargaez/Downloads/Plant-Growth-Cycle-based-on-geospatial-data/WisconsinData/Wisconsin/S-HARMONIZED_20210915T164839_20210915T165906_T16TCN_15Sep2021_B2.tif\n",
      "Opening file /home/aargaez/Downloads/Plant-Growth-Cycle-based-on-geospatial-data/WisconsinData/Wisconsin/S-HARMONIZED_20210510T163901_20210510T164526_T16TCN_10May2021_B4.tif\n",
      "Opening file /home/aargaez/Downloads/Plant-Growth-Cycle-based-on-geospatial-data/WisconsinData/Wisconsin/S-HARMONIZED_20210510T163901_20210510T164526_T16TCN_10May2021_B3.tif\n",
      "Opening file /home/aargaez/Downloads/Plant-Growth-Cycle-based-on-geospatial-data/WisconsinData/Wisconsin/S-HARMONIZED_20210510T163901_20210510T164526_T16TCN_10May2021_B2.tif\n",
      "Opening file /home/aargaez/Downloads/Plant-Growth-Cycle-based-on-geospatial-data/WisconsinData/Wisconsin/S-HARMONIZED_20210609T163901_20210609T164629_T16TCN_09Jun2021_B4.tif\n",
      "Opening file /home/aargaez/Downloads/Plant-Growth-Cycle-based-on-geospatial-data/WisconsinData/Wisconsin/S-HARMONIZED_20210609T163901_20210609T164629_T16TCN_09Jun2021_B3.tif\n",
      "Opening file /home/aargaez/Downloads/Plant-Growth-Cycle-based-on-geospatial-data/WisconsinData/Wisconsin/S-HARMONIZED_20210609T163901_20210609T164629_T16TCN_09Jun2021_B2.tif\n",
      "Opening file /home/aargaez/Downloads/Plant-Growth-Cycle-based-on-geospatial-data/WisconsinData/Wisconsin/S-HARMONIZED_20210505T163839_20210505T164804_T16TCN_05May2021_B4.tif\n",
      "Opening file /home/aargaez/Downloads/Plant-Growth-Cycle-based-on-geospatial-data/WisconsinData/Wisconsin/S-HARMONIZED_20210505T163839_20210505T164804_T16TCN_05May2021_B3.tif\n",
      "Opening file /home/aargaez/Downloads/Plant-Growth-Cycle-based-on-geospatial-data/WisconsinData/Wisconsin/S-HARMONIZED_20210505T163839_20210505T164804_T16TCN_05May2021_B2.tif\n",
      "Opening file /home/aargaez/Downloads/Plant-Growth-Cycle-based-on-geospatial-data/WisconsinData/Wisconsin/S-HARMONIZED_20210614T163839_20210614T164522_T16TCN_14Jun2021_B4.tif\n",
      "Opening file /home/aargaez/Downloads/Plant-Growth-Cycle-based-on-geospatial-data/WisconsinData/Wisconsin/S-HARMONIZED_20210614T163839_20210614T164522_T16TCN_14Jun2021_B3.tif\n",
      "Opening file /home/aargaez/Downloads/Plant-Growth-Cycle-based-on-geospatial-data/WisconsinData/Wisconsin/S-HARMONIZED_20210614T163839_20210614T164522_T16TCN_14Jun2021_B2.tif\n",
      "Opening file /home/aargaez/Downloads/Plant-Growth-Cycle-based-on-geospatial-data/WisconsinData/Wisconsin/S-HARMONIZED_20210612T164901_20210612T165359_T16TCN_12Jun2021_B4.tif\n",
      "Opening file /home/aargaez/Downloads/Plant-Growth-Cycle-based-on-geospatial-data/WisconsinData/Wisconsin/S-HARMONIZED_20210612T164901_20210612T165359_T16TCN_12Jun2021_B3.tif\n",
      "Opening file /home/aargaez/Downloads/Plant-Growth-Cycle-based-on-geospatial-data/WisconsinData/Wisconsin/S-HARMONIZED_20210612T164901_20210612T165359_T16TCN_12Jun2021_B2.tif\n",
      "Opening file /home/aargaez/Downloads/Plant-Growth-Cycle-based-on-geospatial-data/WisconsinData/Wisconsin/S-HARMONIZED_20210425T163829_20210425T164719_T16TCN_25Apr2021_B4.tif\n",
      "Opening file /home/aargaez/Downloads/Plant-Growth-Cycle-based-on-geospatial-data/WisconsinData/Wisconsin/S-HARMONIZED_20210425T163829_20210425T164719_T16TCN_25Apr2021_B3.tif\n",
      "Opening file /home/aargaez/Downloads/Plant-Growth-Cycle-based-on-geospatial-data/WisconsinData/Wisconsin/S-HARMONIZED_20210425T163829_20210425T164719_T16TCN_25Apr2021_B2.tif\n",
      "Opening file /home/aargaez/Downloads/Plant-Growth-Cycle-based-on-geospatial-data/WisconsinData/Wisconsin/S-HARMONIZED_20210801T164901_20210801T165858_T16TCN_01Aug2021_B4.tif\n",
      "Opening file /home/aargaez/Downloads/Plant-Growth-Cycle-based-on-geospatial-data/WisconsinData/Wisconsin/S-HARMONIZED_20210801T164901_20210801T165858_T16TCN_01Aug2021_B3.tif\n",
      "Opening file /home/aargaez/Downloads/Plant-Growth-Cycle-based-on-geospatial-data/WisconsinData/Wisconsin/S-HARMONIZED_20210801T164901_20210801T165858_T16TCN_01Aug2021_B2.tif\n",
      "Opening file /home/aargaez/Downloads/Plant-Growth-Cycle-based-on-geospatial-data/WisconsinData/Wisconsin/S-HARMONIZED_20210430T163901_20210430T164521_T16TCN_30Apr2021_B4.tif\n",
      "Opening file /home/aargaez/Downloads/Plant-Growth-Cycle-based-on-geospatial-data/WisconsinData/Wisconsin/S-HARMONIZED_20210430T163901_20210430T164521_T16TCN_30Apr2021_B3.tif\n",
      "Opening file /home/aargaez/Downloads/Plant-Growth-Cycle-based-on-geospatial-data/WisconsinData/Wisconsin/S-HARMONIZED_20210430T163901_20210430T164521_T16TCN_30Apr2021_B2.tif\n",
      "Opening file /home/aargaez/Downloads/Plant-Growth-Cycle-based-on-geospatial-data/WisconsinData/Wisconsin/S-HARMONIZED_20210813T163839_20210813T164340_T16TCN_13Aug2021_B4.tif\n",
      "Opening file /home/aargaez/Downloads/Plant-Growth-Cycle-based-on-geospatial-data/WisconsinData/Wisconsin/S-HARMONIZED_20210813T163839_20210813T164340_T16TCN_13Aug2021_B3.tif\n",
      "Opening file /home/aargaez/Downloads/Plant-Growth-Cycle-based-on-geospatial-data/WisconsinData/Wisconsin/S-HARMONIZED_20210813T163839_20210813T164340_T16TCN_13Aug2021_B2.tif\n",
      "Opening file /home/aargaez/Downloads/Plant-Growth-Cycle-based-on-geospatial-data/WisconsinData/Wisconsin/S-HARMONIZED_20210828T163901_20210828T164340_T16TCN_28Aug2021_B4.tif\n",
      "Opening file /home/aargaez/Downloads/Plant-Growth-Cycle-based-on-geospatial-data/WisconsinData/Wisconsin/S-HARMONIZED_20210828T163901_20210828T164340_T16TCN_28Aug2021_B3.tif\n",
      "Opening file /home/aargaez/Downloads/Plant-Growth-Cycle-based-on-geospatial-data/WisconsinData/Wisconsin/S-HARMONIZED_20210828T163901_20210828T164340_T16TCN_28Aug2021_B2.tif\n",
      "Opening file /home/aargaez/Downloads/Plant-Growth-Cycle-based-on-geospatial-data/WisconsinData/Wisconsin/S-HARMONIZED_20210619T163901_20210619T164013_T16TCN_19Jun2021_B4.tif\n",
      "Opening file /home/aargaez/Downloads/Plant-Growth-Cycle-based-on-geospatial-data/WisconsinData/Wisconsin/S-HARMONIZED_20210619T163901_20210619T164013_T16TCN_19Jun2021_B3.tif\n",
      "Opening file /home/aargaez/Downloads/Plant-Growth-Cycle-based-on-geospatial-data/WisconsinData/Wisconsin/S-HARMONIZED_20210619T163901_20210619T164013_T16TCN_19Jun2021_B2.tif\n",
      "Opening file /home/aargaez/Downloads/Plant-Growth-Cycle-based-on-geospatial-data/WisconsinData/Wisconsin/S-HARMONIZED_20210702T164901_20210702T165839_T16TCN_02Jul2021_B4.tif\n",
      "Opening file /home/aargaez/Downloads/Plant-Growth-Cycle-based-on-geospatial-data/WisconsinData/Wisconsin/S-HARMONIZED_20210702T164901_20210702T165839_T16TCN_02Jul2021_B3.tif\n",
      "Opening file /home/aargaez/Downloads/Plant-Growth-Cycle-based-on-geospatial-data/WisconsinData/Wisconsin/S-HARMONIZED_20210702T164901_20210702T165839_T16TCN_02Jul2021_B2.tif\n",
      "Opening file /home/aargaez/Downloads/Plant-Growth-Cycle-based-on-geospatial-data/WisconsinData/Wisconsin/S-HARMONIZED_20210905T164839_20210905T165613_T16TCN_05Sep2021_B4.tif\n",
      "Opening file /home/aargaez/Downloads/Plant-Growth-Cycle-based-on-geospatial-data/WisconsinData/Wisconsin/S-HARMONIZED_20210905T164839_20210905T165613_T16TCN_05Sep2021_B3.tif\n",
      "Opening file /home/aargaez/Downloads/Plant-Growth-Cycle-based-on-geospatial-data/WisconsinData/Wisconsin/S-HARMONIZED_20210905T164839_20210905T165613_T16TCN_05Sep2021_B2.tif\n",
      "Opening file /home/aargaez/Downloads/Plant-Growth-Cycle-based-on-geospatial-data/WisconsinData/Wisconsin/S-HARMONIZED_20210604T163839_20210604T164236_T16TCN_04Jun2021_B4.tif\n",
      "Opening file /home/aargaez/Downloads/Plant-Growth-Cycle-based-on-geospatial-data/WisconsinData/Wisconsin/S-HARMONIZED_20210604T163839_20210604T164236_T16TCN_04Jun2021_B3.tif\n",
      "Opening file /home/aargaez/Downloads/Plant-Growth-Cycle-based-on-geospatial-data/WisconsinData/Wisconsin/S-HARMONIZED_20210604T163839_20210604T164236_T16TCN_04Jun2021_B2.tif\n",
      "Opening file /home/aargaez/Downloads/Plant-Growth-Cycle-based-on-geospatial-data/WisconsinData/Wisconsin/S-HARMONIZED_20210717T164849_20210717T165842_T16TCN_17Jul2021_B4.tif\n",
      "Opening file /home/aargaez/Downloads/Plant-Growth-Cycle-based-on-geospatial-data/WisconsinData/Wisconsin/S-HARMONIZED_20210717T164849_20210717T165842_T16TCN_17Jul2021_B3.tif\n",
      "Opening file /home/aargaez/Downloads/Plant-Growth-Cycle-based-on-geospatial-data/WisconsinData/Wisconsin/S-HARMONIZED_20210717T164849_20210717T165842_T16TCN_17Jul2021_B2.tif\n",
      "Opening file /home/aargaez/Downloads/Plant-Growth-Cycle-based-on-geospatial-data/WisconsinData/Wisconsin/S-HARMONIZED_20210917T163941_20210917T163957_T16TCN_17Sep2021_B4.tif\n",
      "Opening file /home/aargaez/Downloads/Plant-Growth-Cycle-based-on-geospatial-data/WisconsinData/Wisconsin/S-HARMONIZED_20210917T163941_20210917T163957_T16TCN_17Sep2021_B3.tif\n",
      "Opening file /home/aargaez/Downloads/Plant-Growth-Cycle-based-on-geospatial-data/WisconsinData/Wisconsin/S-HARMONIZED_20210917T163941_20210917T163957_T16TCN_17Sep2021_B2.tif\n",
      "Opening file /home/aargaez/Downloads/Plant-Growth-Cycle-based-on-geospatial-data/WisconsinData/Wisconsin/S-HARMONIZED_20210403T164851_20210403T165851_T16TCN_03Apr2021_B4.tif\n",
      "Opening file /home/aargaez/Downloads/Plant-Growth-Cycle-based-on-geospatial-data/WisconsinData/Wisconsin/S-HARMONIZED_20210403T164851_20210403T165851_T16TCN_03Apr2021_B3.tif\n",
      "Opening file /home/aargaez/Downloads/Plant-Growth-Cycle-based-on-geospatial-data/WisconsinData/Wisconsin/S-HARMONIZED_20210403T164851_20210403T165851_T16TCN_03Apr2021_B2.tif\n",
      "Opening file /home/aargaez/Downloads/Plant-Growth-Cycle-based-on-geospatial-data/WisconsinData/Wisconsin/S-HARMONIZED_20210525T163839_20210525T164855_T16TCN_25May2021_B4.tif\n",
      "Opening file /home/aargaez/Downloads/Plant-Growth-Cycle-based-on-geospatial-data/WisconsinData/Wisconsin/S-HARMONIZED_20210525T163839_20210525T164855_T16TCN_25May2021_B3.tif\n",
      "Opening file /home/aargaez/Downloads/Plant-Growth-Cycle-based-on-geospatial-data/WisconsinData/Wisconsin/S-HARMONIZED_20210525T163839_20210525T164855_T16TCN_25May2021_B2.tif\n",
      "Opening file /home/aargaez/Downloads/Plant-Growth-Cycle-based-on-geospatial-data/WisconsinData/Wisconsin/S-HARMONIZED_20210930T165111_20210930T165533_T16TCN_30Sep2021_B4.tif\n",
      "Opening file /home/aargaez/Downloads/Plant-Growth-Cycle-based-on-geospatial-data/WisconsinData/Wisconsin/S-HARMONIZED_20210930T165111_20210930T165533_T16TCN_30Sep2021_B3.tif\n",
      "Opening file /home/aargaez/Downloads/Plant-Growth-Cycle-based-on-geospatial-data/WisconsinData/Wisconsin/S-HARMONIZED_20210930T165111_20210930T165533_T16TCN_30Sep2021_B2.tif\n",
      "Opening file /home/aargaez/Downloads/Plant-Growth-Cycle-based-on-geospatial-data/WisconsinData/Wisconsin/S-HARMONIZED_20210910T164901_20210910T165406_T16TCN_10Sep2021_B4.tif\n",
      "Opening file /home/aargaez/Downloads/Plant-Growth-Cycle-based-on-geospatial-data/WisconsinData/Wisconsin/S-HARMONIZED_20210910T164901_20210910T165406_T16TCN_10Sep2021_B3.tif\n",
      "Opening file /home/aargaez/Downloads/Plant-Growth-Cycle-based-on-geospatial-data/WisconsinData/Wisconsin/S-HARMONIZED_20210910T164901_20210910T165406_T16TCN_10Sep2021_B2.tif\n",
      "Opening file /home/aargaez/Downloads/Plant-Growth-Cycle-based-on-geospatial-data/WisconsinData/Wisconsin/S-HARMONIZED_20210617T164839_20210617T165139_T16TCN_17Jun2021_B4.tif\n",
      "Opening file /home/aargaez/Downloads/Plant-Growth-Cycle-based-on-geospatial-data/WisconsinData/Wisconsin/S-HARMONIZED_20210617T164839_20210617T165139_T16TCN_17Jun2021_B3.tif\n",
      "Opening file /home/aargaez/Downloads/Plant-Growth-Cycle-based-on-geospatial-data/WisconsinData/Wisconsin/S-HARMONIZED_20210617T164839_20210617T165139_T16TCN_17Jun2021_B2.tif\n",
      "Opening file /home/aargaez/Downloads/Plant-Growth-Cycle-based-on-geospatial-data/WisconsinData/Wisconsin/S-HARMONIZED_20210602T164901_20210602T165500_T16TCN_02Jun2021_B4.tif\n",
      "Opening file /home/aargaez/Downloads/Plant-Growth-Cycle-based-on-geospatial-data/WisconsinData/Wisconsin/S-HARMONIZED_20210602T164901_20210602T165500_T16TCN_02Jun2021_B3.tif\n",
      "Opening file /home/aargaez/Downloads/Plant-Growth-Cycle-based-on-geospatial-data/WisconsinData/Wisconsin/S-HARMONIZED_20210602T164901_20210602T165500_T16TCN_02Jun2021_B2.tif\n",
      "Opening file /home/aargaez/Downloads/Plant-Growth-Cycle-based-on-geospatial-data/WisconsinData/Wisconsin/S-HARMONIZED_20210803T163839_20210803T164132_T16TCN_03Aug2021_B4.tif\n",
      "Opening file /home/aargaez/Downloads/Plant-Growth-Cycle-based-on-geospatial-data/WisconsinData/Wisconsin/S-HARMONIZED_20210803T163839_20210803T164132_T16TCN_03Aug2021_B3.tif\n",
      "Opening file /home/aargaez/Downloads/Plant-Growth-Cycle-based-on-geospatial-data/WisconsinData/Wisconsin/S-HARMONIZED_20210803T163839_20210803T164132_T16TCN_03Aug2021_B2.tif\n",
      "Opening file /home/aargaez/Downloads/Plant-Growth-Cycle-based-on-geospatial-data/WisconsinData/Wisconsin/S-HARMONIZED_20210927T164051_20210927T165058_T16TCN_27Sep2021_B4.tif\n",
      "Opening file /home/aargaez/Downloads/Plant-Growth-Cycle-based-on-geospatial-data/WisconsinData/Wisconsin/S-HARMONIZED_20210927T164051_20210927T165058_T16TCN_27Sep2021_B3.tif\n",
      "Opening file /home/aargaez/Downloads/Plant-Growth-Cycle-based-on-geospatial-data/WisconsinData/Wisconsin/S-HARMONIZED_20210927T164051_20210927T165058_T16TCN_27Sep2021_B2.tif\n"
     ]
    }
   ],
   "source": [
    "# TODO: Changes these values for parameters on a database.\n",
    "BASE_DIR = '/home/aargaez/Downloads/Plant-Growth-Cycle-based-on-geospatial-data/WisconsinData/Wisconsin'\n",
    "bands =  ['B4','B3','B2']\n",
    "\n",
    "# Dict of the images.\n",
    "images = utils.load_landsat_image(BASE_DIR, bands)"
   ]
  },
  {
   "cell_type": "code",
   "execution_count": 11,
   "metadata": {},
   "outputs": [],
   "source": [
    "def sort_dict_by_date(\n",
    "    images_dicts : Union[Dict, None]\n",
    ") -> List:\n",
    "    \"\"\"\n",
    "    Sorted the Images Dict keys' to make a time series analysis.\n",
    "    \"\"\"\n",
    "    # Get all the keys of the dictionary.\n",
    "    dates_list = [(key, re.findall(f\"(\\d+)T\", key)[0]) for key in images.keys()]\n",
    "    # Cast the keys to daterimes.\n",
    "    datetimes_list = [(date[0], datetime.strptime(date[1], '%Y%m%d')) for date in dates_list]\n",
    "    # Sort the tuples based on the datetimes.\n",
    "    datetimes_list = sorted(datetimes_list, key = lambda x: x[1])\n",
    "    # Extract just the sorted keys.\n",
    "    keys_sorted_list = [key[0] for key in datetimes_list]\n",
    "\n",
    "    return keys_sorted_list  \n",
    "    "
   ]
  },
  {
   "cell_type": "code",
   "execution_count": null,
   "metadata": {},
   "outputs": [],
   "source": [
    "sort_dict_by_date(images)"
   ]
  },
  {
   "cell_type": "code",
   "execution_count": null,
   "metadata": {},
   "outputs": [],
   "source": [
    "figure_1 = images['20201013T17015920201013T170633T15TXG13Oct2020']['B4']\n",
    "figure_2 = images['20201015T16530120201015T165905T15TXG15Oct2020']['B4']"
   ]
  },
  {
   "cell_type": "code",
   "execution_count": null,
   "metadata": {},
   "outputs": [],
   "source": [
    "f = figure_1 - figure_2"
   ]
  },
  {
   "cell_type": "code",
   "execution_count": null,
   "metadata": {},
   "outputs": [],
   "source": [
    "plt.imshow(f, cmap = 'rainbow' , interpolation = 'bilinear')\n",
    "# plt.title(f'')\n",
    "plt.colorbar()"
   ]
  },
  {
   "cell_type": "code",
   "execution_count": null,
   "metadata": {},
   "outputs": [],
   "source": [
    "# Images keys.\n",
    "images_keys = list(images.keys())"
   ]
  },
  {
   "cell_type": "code",
   "execution_count": null,
   "metadata": {},
   "outputs": [],
   "source": [
    "# Image with arrays.\n",
    "image_stacked_dict = {}\n",
    "\n",
    "# Iterate over the dictionary to stack the array.\n",
    "for key in images_keys:\n",
    "    image_stacked_dict.update(\n",
    "        {\n",
    "            key : utils.display_rgb(images[key])\n",
    "        }\n",
    "    )"
   ]
  },
  {
   "cell_type": "code",
   "execution_count": null,
   "metadata": {},
   "outputs": [],
   "source": [
    "first = image_stacked_dict['20201015T16530120201015T165905T15TXG15Oct2020']"
   ]
  },
  {
   "cell_type": "code",
   "execution_count": null,
   "metadata": {},
   "outputs": [],
   "source": [
    "first[0][0]"
   ]
  },
  {
   "cell_type": "code",
   "execution_count": null,
   "metadata": {},
   "outputs": [],
   "source": [
    "first[0]"
   ]
  }
 ],
 "metadata": {
  "kernelspec": {
   "display_name": "Python 3.8.10 ('venvpgc': venv)",
   "language": "python",
   "name": "python3"
  },
  "language_info": {
   "codemirror_mode": {
    "name": "ipython",
    "version": 3
   },
   "file_extension": ".py",
   "mimetype": "text/x-python",
   "name": "python",
   "nbconvert_exporter": "python",
   "pygments_lexer": "ipython3",
   "version": "3.8.10"
  },
  "orig_nbformat": 4,
  "vscode": {
   "interpreter": {
    "hash": "458324898a307e82937a0201a3cb78a6e01bf2fa4d39f3dd0863d1bd1c8ab461"
   }
  }
 },
 "nbformat": 4,
 "nbformat_minor": 2
}
