{
 "cells": [
  {
   "cell_type": "markdown",
   "metadata": {},
   "source": [
    "# Traceability of information"
   ]
  },
  {
   "cell_type": "markdown",
   "metadata": {},
   "source": [
    "One of the main drawbacks of the data is its traceability. To ensure the quality of the data, we perform an analysis over time to look for jumps in the images (matrices), i.e. we have to make sure that there are no big jumps from one image to another so that if we run a time movie, progressive variations in the data channels are observed."
   ]
  },
  {
   "cell_type": "code",
   "execution_count": null,
   "metadata": {},
   "outputs": [],
   "source": [
    "import utils\n",
    "import earthpy.plot as ep\n",
    "import numpy as np\n",
    "import matplotlib.pyplot as plt\n",
    "import cv2\n",
    "import re\n",
    "\n",
    "from datetime import datetime\n",
    "from typing import Union, List, Dict, Tuple"
   ]
  },
  {
   "cell_type": "code",
   "execution_count": null,
   "metadata": {},
   "outputs": [],
   "source": [
    "# TODO: Changes these values for parameters on a database.\n",
    "BASE_DIR = '/home/aargaez/Downloads/Plant-Growth-Cycle-based-on-geospatial-data/DataExtraction/manitoba19Data'\n",
    "bands =  ['B4','B3','B2','B8']\n",
    "\n",
    "# Dict of the images.\n",
    "images = utils.load_landsat_image(BASE_DIR, bands)"
   ]
  },
  {
   "cell_type": "code",
   "execution_count": null,
   "metadata": {},
   "outputs": [],
   "source": [
    "images"
   ]
  },
  {
   "cell_type": "code",
   "execution_count": null,
   "metadata": {},
   "outputs": [],
   "source": [
    "# Call the sort function.\n",
    "sorted_keys = utils.sort_dict_by_date(images)"
   ]
  },
  {
   "cell_type": "code",
   "execution_count": null,
   "metadata": {},
   "outputs": [],
   "source": [
    "# Iterate over the sorted keys to get the time series analysis.\n",
    "for key in sorted_keys:\n",
    "    # Perform operations on each band to ensure there is no jump.\n",
    "    image = images[key]\n",
    "    utils.display_rgb(img=image, title=key)"
   ]
  },
  {
   "cell_type": "code",
   "execution_count": null,
   "metadata": {},
   "outputs": [],
   "source": [
    "# Iterate over the sorted keys and apply 8-bit conversion.\n",
    "eight_bits_images = {key : utils.convert_to_eight_bits(images[key]) for key in sorted_keys}"
   ]
  },
  {
   "cell_type": "code",
   "execution_count": null,
   "metadata": {},
   "outputs": [],
   "source": [
    "def time_series_calculator(\n",
    "    eight_bits_dict: Union[Dict, None],\n",
    "    sorted_keys: List[str]\n",
    ") -> None:\n",
    "\n",
    "    img_differences = []\n",
    "\n",
    "    # Iterate over the sorted keys to get the time series analysis.\n",
    "    for i in range(len(sorted_keys)):\n",
    "        try:\n",
    "            image1 = eight_bits_dict[sorted_keys[i]]\n",
    "            image2 = eight_bits_dict[sorted_keys[i + 1]]\n",
    "        except IndexError:\n",
    "            image1 = eight_bits_dict[sorted_keys[i]]\n",
    "            image2 = eight_bits_dict[sorted_keys[0]]\n",
    "        \n",
    "        # Element-wise sum of matrix entries.\n",
    "        img_differences.append(\n",
    "            cv2.subtract(image2, image1)\n",
    "        )\n",
    "\n",
    "    return img_differences"
   ]
  },
  {
   "cell_type": "code",
   "execution_count": null,
   "metadata": {},
   "outputs": [],
   "source": [
    "time_series = time_series_calculator(eight_bits_dict=eight_bits_images, sorted_keys=sorted_keys)"
   ]
  },
  {
   "cell_type": "code",
   "execution_count": null,
   "metadata": {},
   "outputs": [],
   "source": [
    "# Iterate over the sorted keys to get the time series analysis.\n",
    "for img in time_series:\n",
    "    plt.figure()\n",
    "    plt.imshow(img)"
   ]
  }
 ],
 "metadata": {
  "kernelspec": {
   "display_name": "Python 3.8.10 ('venvpgc': venv)",
   "language": "python",
   "name": "python3"
  },
  "language_info": {
   "codemirror_mode": {
    "name": "ipython",
    "version": 3
   },
   "file_extension": ".py",
   "mimetype": "text/x-python",
   "name": "python",
   "nbconvert_exporter": "python",
   "pygments_lexer": "ipython3",
   "version": "3.8.10"
  },
  "orig_nbformat": 4,
  "vscode": {
   "interpreter": {
    "hash": "458324898a307e82937a0201a3cb78a6e01bf2fa4d39f3dd0863d1bd1c8ab461"
   }
  }
 },
 "nbformat": 4,
 "nbformat_minor": 2
}
