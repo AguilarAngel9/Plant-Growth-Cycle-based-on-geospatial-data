{
 "cells": [
  {
   "cell_type": "markdown",
   "id": "bd0f965a",
   "metadata": {},
   "source": [
    "# Data Extractor"
   ]
  },
  {
   "cell_type": "code",
   "execution_count": 1,
   "id": "a8f68704",
   "metadata": {},
   "outputs": [],
   "source": [
    "import ee\n",
    "\n",
    "service_account = 'tec-semester@plantgrowthcycle.iam.gserviceaccount.com'\n",
    "\n",
    "credentials = ee.ServiceAccountCredentials(\n",
    "    service_account,\n",
    "    'plantgrowthcycle-3acdcfc1f75c.json')\n",
    "\n",
    "ee.Initialize(credentials)\n",
    "\n",
    "import geetools\n",
    "import geemap\n",
    "import os\n",
    "\n",
    "from pydrive.auth import GoogleAuth\n",
    "from pydrive.drive import GoogleDrive\n",
    "from oauth2client.service_account import ServiceAccountCredentials"
   ]
  },
  {
   "cell_type": "code",
   "execution_count": 2,
   "id": "678150a0",
   "metadata": {},
   "outputs": [],
   "source": [
    "#Angel se la come\n",
    "\n",
    "class DataExtractor():\n",
    "    \n",
    "    def __init__(self, data_collection, start_date, end_date, bands):\n",
    "        self.data_collection = data_collection\n",
    "        self.start_date = start_date\n",
    "        self.end_date = end_date\n",
    "        self.bands = bands\n",
    "        self.point = None\n",
    "        self.region = None\n",
    "        self.image_collection = None\n",
    "        self.Map = None\n",
    " \n",
    "    def set_point(self, point):\n",
    "        self.point = point\n",
    "        \n",
    "    def set_interest_region(self, meters):\n",
    "        \"\"\" \n",
    "        Select an arbitrary point and a distance in (meters),\n",
    "        to construct a rectangle centered on the given point.\n",
    "        \"\"\"\n",
    "        point = ee.Geometry.Point(self.point)        \n",
    "        self.region = point.buffer(meters).bounds()\n",
    "        \n",
    "        Map = geemap.Map()\n",
    "        Map.setCenter(self.point[0], self.point[1])\n",
    "        Map.addLayer(point,\n",
    "             {'color': 'black'},\n",
    "             'Geometry [black]: point')\n",
    "        \n",
    "        Map.addLayer(self.region)\n",
    "        \n",
    "        self.Map = Map\n",
    "        \n",
    "        return self.Map\n",
    "\n",
    "    def get_data_visualization(self):\n",
    "        \"\"\" Get the Earth Engine image collection with the desired characteristics \"\"\"\n",
    "        self.image_collection = (\n",
    "            ee.ImageCollection(self.data_collection)\n",
    "            .select(self.bands)\n",
    "            .filterBounds(self.region)\n",
    "            .filterDate(self.start_date, self.end_date)\n",
    "            .filter(ee.Filter.lt('CLOUDY_PIXEL_PERCENTAGE', 30))\n",
    "        )\n",
    "        \n",
    "        print(f'The size of the collection is: {self.image_collection.size().getInfo()}')\n",
    "\n",
    "        visualization = {\n",
    "            \"bands\" : self.bands[0:3],\n",
    "            \"min\": 300, \n",
    "            \"max\": 3500\n",
    "        }\n",
    "\n",
    "        self.Map.addLayer(\n",
    "            ee_object=self.image_collection, \n",
    "            vis_params=visualization,\n",
    "            name=\"Sentinel-2\",\n",
    "            shown=False)\n",
    "\n",
    "        self.Map.add_time_slider(\n",
    "            ee_object=self.image_collection,\n",
    "            vis_params=visualization,\n",
    "            time_interval=5\n",
    "        )\n",
    "    \n",
    "    def extract_data(self, folder_name = \"ClimateDate\"):\n",
    "        \"\"\" Iterates over the ImageCollection and send the images to Drive \"\"\"        \n",
    "        for band in self.bands:\n",
    "            extra = dict(sat=\"S-HARMONIZED\", band=band)\n",
    "            geetools.batch.Export.imagecollection.toDrive(\n",
    "                collection=self.image_collection.select(band),\n",
    "                region=self.region,\n",
    "                namePattern=\"{sat}_{id}_{system_date}_{band}\",\n",
    "                datePattern = \"ddMMMy\",\n",
    "                dataType=\"int\",\n",
    "                folder=folder_name,\n",
    "                extra=extra,\n",
    "                verbose=True\n",
    "            )"
   ]
  },
  {
   "cell_type": "code",
   "execution_count": 3,
   "id": "3b5b08ca",
   "metadata": {},
   "outputs": [],
   "source": [
    "# Parameters.\n",
    "data_collection = \"COPERNICUS/S2_SR_HARMONIZED\"\n",
    "# Destination folder.\n",
    "folder_name = \"ClimateAiData\"\n",
    "# Time windows.\n",
    "start_date = \"2021-08-01\"\n",
    "end_date = \"2021-09-01\"\n",
    "# Color bands.\n",
    "bands =  [\"B4\",\"B3\",\"B2\",\"B8\"] # RGB channels.\n",
    "# Coordinates\n",
    "coordinates = {\n",
    "    \"Germany\" : {\n",
    "        \"0\" : [10.109178, 52.295949],\n",
    "    } ,\n",
    "    \"Iowa\" : {\n",
    "        \"0\" : [-91.47321072391104, 41.87728596488476],\n",
    "    },\n",
    "    \"Iowa2\" : {\n",
    "        \"0\" : [-93.78163323429821, 41.75739907371553],\n",
    "    }\n",
    "}"
   ]
  },
  {
   "cell_type": "code",
   "execution_count": 4,
   "id": "74901b90",
   "metadata": {},
   "outputs": [
    {
     "data": {
      "application/vnd.jupyter.widget-view+json": {
       "model_id": "d51bf7d5f29b4544a7f4218bf3d105cf",
       "version_major": 2,
       "version_minor": 0
      },
      "text/plain": [
       "Map(center=[41.75739907371553, -93.78163323429821], controls=(WidgetControl(options=['position', 'transparent_…"
      ]
     },
     "execution_count": 4,
     "metadata": {},
     "output_type": "execute_result"
    }
   ],
   "source": [
    "# Call the DataExtractorClass.\n",
    "D = DataExtractor(\n",
    "    data_collection=data_collection,\n",
    "    start_date=start_date,\n",
    "    end_date=end_date,\n",
    "    bands=bands\n",
    ")\n",
    "\n",
    "D.set_point(coordinates[\"Iowa2\"][\"0\"])\n",
    "D.set_interest_region(1500)"
   ]
  },
  {
   "cell_type": "code",
   "execution_count": 5,
   "id": "123dc38e",
   "metadata": {},
   "outputs": [
    {
     "name": "stdout",
     "output_type": "stream",
     "text": [
      "The size of the collection is: 10\n"
     ]
    }
   ],
   "source": [
    "D.get_data_visualization()"
   ]
  },
  {
   "cell_type": "code",
   "execution_count": 6,
   "id": "7d011f79",
   "metadata": {},
   "outputs": [
    {
     "name": "stdout",
     "output_type": "stream",
     "text": [
      "exporting S-HARMONIZED_20210802T170849_20210802T171859_T15TVG_02Aug2021_B4 to folder 'ClimateAiData' in GDrive\n",
      "exporting S-HARMONIZED_20210804T165901_20210804T170637_T15TVG_04Aug2021_B4 to folder 'ClimateAiData' in GDrive\n",
      "exporting S-HARMONIZED_20210809T165849_20210809T171029_T15TVG_09Aug2021_B4 to folder 'ClimateAiData' in GDrive\n",
      "exporting S-HARMONIZED_20210812T170849_20210812T171908_T15TVG_12Aug2021_B4 to folder 'ClimateAiData' in GDrive\n",
      "exporting S-HARMONIZED_20210814T165901_20210814T170626_T15TVG_14Aug2021_B4 to folder 'ClimateAiData' in GDrive\n",
      "exporting S-HARMONIZED_20210817T170851_20210817T171432_T15TVG_17Aug2021_B4 to folder 'ClimateAiData' in GDrive\n",
      "exporting S-HARMONIZED_20210819T165849_20210819T170004_T15TVG_19Aug2021_B4 to folder 'ClimateAiData' in GDrive\n",
      "exporting S-HARMONIZED_20210822T170849_20210822T171856_T15TVG_22Aug2021_B4 to folder 'ClimateAiData' in GDrive\n",
      "exporting S-HARMONIZED_20210824T165851_20210824T170900_T15TVG_24Aug2021_B4 to folder 'ClimateAiData' in GDrive\n",
      "exporting S-HARMONIZED_20210827T170851_20210827T171805_T15TVG_27Aug2021_B4 to folder 'ClimateAiData' in GDrive\n",
      "exporting S-HARMONIZED_20210802T170849_20210802T171859_T15TVG_02Aug2021_B3 to folder 'ClimateAiData' in GDrive\n",
      "exporting S-HARMONIZED_20210804T165901_20210804T170637_T15TVG_04Aug2021_B3 to folder 'ClimateAiData' in GDrive\n",
      "exporting S-HARMONIZED_20210809T165849_20210809T171029_T15TVG_09Aug2021_B3 to folder 'ClimateAiData' in GDrive\n",
      "exporting S-HARMONIZED_20210812T170849_20210812T171908_T15TVG_12Aug2021_B3 to folder 'ClimateAiData' in GDrive\n",
      "exporting S-HARMONIZED_20210814T165901_20210814T170626_T15TVG_14Aug2021_B3 to folder 'ClimateAiData' in GDrive\n",
      "exporting S-HARMONIZED_20210817T170851_20210817T171432_T15TVG_17Aug2021_B3 to folder 'ClimateAiData' in GDrive\n",
      "exporting S-HARMONIZED_20210819T165849_20210819T170004_T15TVG_19Aug2021_B3 to folder 'ClimateAiData' in GDrive\n",
      "exporting S-HARMONIZED_20210822T170849_20210822T171856_T15TVG_22Aug2021_B3 to folder 'ClimateAiData' in GDrive\n",
      "exporting S-HARMONIZED_20210824T165851_20210824T170900_T15TVG_24Aug2021_B3 to folder 'ClimateAiData' in GDrive\n",
      "exporting S-HARMONIZED_20210827T170851_20210827T171805_T15TVG_27Aug2021_B3 to folder 'ClimateAiData' in GDrive\n",
      "exporting S-HARMONIZED_20210802T170849_20210802T171859_T15TVG_02Aug2021_B2 to folder 'ClimateAiData' in GDrive\n",
      "exporting S-HARMONIZED_20210804T165901_20210804T170637_T15TVG_04Aug2021_B2 to folder 'ClimateAiData' in GDrive\n",
      "exporting S-HARMONIZED_20210809T165849_20210809T171029_T15TVG_09Aug2021_B2 to folder 'ClimateAiData' in GDrive\n",
      "exporting S-HARMONIZED_20210812T170849_20210812T171908_T15TVG_12Aug2021_B2 to folder 'ClimateAiData' in GDrive\n",
      "exporting S-HARMONIZED_20210814T165901_20210814T170626_T15TVG_14Aug2021_B2 to folder 'ClimateAiData' in GDrive\n",
      "exporting S-HARMONIZED_20210817T170851_20210817T171432_T15TVG_17Aug2021_B2 to folder 'ClimateAiData' in GDrive\n",
      "exporting S-HARMONIZED_20210819T165849_20210819T170004_T15TVG_19Aug2021_B2 to folder 'ClimateAiData' in GDrive\n",
      "exporting S-HARMONIZED_20210822T170849_20210822T171856_T15TVG_22Aug2021_B2 to folder 'ClimateAiData' in GDrive\n",
      "exporting S-HARMONIZED_20210824T165851_20210824T170900_T15TVG_24Aug2021_B2 to folder 'ClimateAiData' in GDrive\n",
      "exporting S-HARMONIZED_20210827T170851_20210827T171805_T15TVG_27Aug2021_B2 to folder 'ClimateAiData' in GDrive\n",
      "exporting S-HARMONIZED_20210802T170849_20210802T171859_T15TVG_02Aug2021_B8 to folder 'ClimateAiData' in GDrive\n",
      "exporting S-HARMONIZED_20210804T165901_20210804T170637_T15TVG_04Aug2021_B8 to folder 'ClimateAiData' in GDrive\n",
      "exporting S-HARMONIZED_20210809T165849_20210809T171029_T15TVG_09Aug2021_B8 to folder 'ClimateAiData' in GDrive\n",
      "exporting S-HARMONIZED_20210812T170849_20210812T171908_T15TVG_12Aug2021_B8 to folder 'ClimateAiData' in GDrive\n",
      "exporting S-HARMONIZED_20210814T165901_20210814T170626_T15TVG_14Aug2021_B8 to folder 'ClimateAiData' in GDrive\n",
      "exporting S-HARMONIZED_20210817T170851_20210817T171432_T15TVG_17Aug2021_B8 to folder 'ClimateAiData' in GDrive\n",
      "exporting S-HARMONIZED_20210819T165849_20210819T170004_T15TVG_19Aug2021_B8 to folder 'ClimateAiData' in GDrive\n",
      "exporting S-HARMONIZED_20210822T170849_20210822T171856_T15TVG_22Aug2021_B8 to folder 'ClimateAiData' in GDrive\n",
      "exporting S-HARMONIZED_20210824T165851_20210824T170900_T15TVG_24Aug2021_B8 to folder 'ClimateAiData' in GDrive\n",
      "exporting S-HARMONIZED_20210827T170851_20210827T171805_T15TVG_27Aug2021_B8 to folder 'ClimateAiData' in GDrive\n"
     ]
    }
   ],
   "source": [
    "D.extract_data(folder_name)"
   ]
  },
  {
   "cell_type": "code",
   "execution_count": 13,
   "id": "f8602562",
   "metadata": {},
   "outputs": [],
   "source": [
    "# Authenticate to Google Drive (of the Service account)\n",
    "gauth = GoogleAuth()\n",
    "scopes = ['https://www.googleapis.com/auth/drive']\n",
    "gauth.credentials = ServiceAccountCredentials.from_json_keyfile_name(\"plantgrowthcycle-3acdcfc1f75c.json\"\n",
    "                                                                     ,scopes=scopes)\n",
    "\n",
    "drive = GoogleDrive(gauth)\n",
    "\n",
    "# Query the files that are not folders.\n",
    "file_list = drive.ListFile(\n",
    "    {'q': \"trashed=False and mimeType != 'application/vnd.google-apps.folder'\", 'maxResults': 100}\n",
    ")\n",
    "# Get a list of files.\n",
    "files = file_list.GetList()"
   ]
  },
  {
   "cell_type": "code",
   "execution_count": 14,
   "id": "7632848e",
   "metadata": {},
   "outputs": [],
   "source": [
    "# Iterate over the file list.\n",
    "for file in files:\n",
    "    filename = file['title']\n",
    "    print(filename)\n",
    "    # Download file into working directory (in this case a tiff-file)\n",
    "    file.GetContentFile(filename, mimetype=\"image/tiff\")\n",
    "\n",
    "    # Delete file afterwards to keep the Drive empty\n",
    "    file.Delete()"
   ]
  }
 ],
 "metadata": {
  "kernelspec": {
   "display_name": "Python 3.8.10 64-bit",
   "language": "python",
   "name": "python3"
  },
  "language_info": {
   "codemirror_mode": {
    "name": "ipython",
    "version": 3
   },
   "file_extension": ".py",
   "mimetype": "text/x-python",
   "name": "python",
   "nbconvert_exporter": "python",
   "pygments_lexer": "ipython3",
   "version": "3.8.10"
  },
  "vscode": {
   "interpreter": {
    "hash": "916dbcbb3f70747c44a77c7bcd40155683ae19c65e1c03b4aa3499c5328201f1"
   }
  }
 },
 "nbformat": 4,
 "nbformat_minor": 5
}
