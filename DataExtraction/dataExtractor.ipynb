{
 "cells": [
  {
   "cell_type": "markdown",
   "id": "bd0f965a",
   "metadata": {},
   "source": [
    "# Data Extractor"
   ]
  },
  {
   "cell_type": "code",
   "execution_count": 1,
   "id": "e61c1594",
   "metadata": {},
   "outputs": [
    {
     "data": {
      "text/html": [
       "<p>To authorize access needed by Earth Engine, open the following\n",
       "        URL in a web browser and follow the instructions:</p>\n",
       "        <p><a href=https://code.earthengine.google.com/client-auth?scopes=https%3A//www.googleapis.com/auth/earthengine%20https%3A//www.googleapis.com/auth/devstorage.full_control&request_id=XJ4D2fDFljpT-UE_LvM0GGMZeagRMc2ujo5yMMomZsc&tc=7S1JUIVS965JS6OlDTlLLj1mvWr7ur-R3L8UTvpnsmM&cc=V5AUi5HBW4-lpTfx1wZf0Dc36g4asI2BcAn9OBTI6kc>https://code.earthengine.google.com/client-auth?scopes=https%3A//www.googleapis.com/auth/earthengine%20https%3A//www.googleapis.com/auth/devstorage.full_control&request_id=XJ4D2fDFljpT-UE_LvM0GGMZeagRMc2ujo5yMMomZsc&tc=7S1JUIVS965JS6OlDTlLLj1mvWr7ur-R3L8UTvpnsmM&cc=V5AUi5HBW4-lpTfx1wZf0Dc36g4asI2BcAn9OBTI6kc</a></p>\n",
       "        <p>The authorization workflow will generate a code, which you should paste in the box below.</p>\n",
       "        "
      ],
      "text/plain": [
       "<IPython.core.display.HTML object>"
      ]
     },
     "metadata": {},
     "output_type": "display_data"
    },
    {
     "name": "stdout",
     "output_type": "stream",
     "text": [
      "Enter verification code: 4/1AdQt8qh2sCr0J0Z4EjUonkVf9sGjjiDEUz80N7WqFD3M1YN04FA-yGXWprg\n",
      "\n",
      "Successfully saved authorization token.\n"
     ]
    }
   ],
   "source": [
    "import ee\n",
    "ee.Initialize()\n",
    "ee.Authenticate()\n",
    "import geetools\n",
    "import geemap\n",
    "import os"
   ]
  },
  {
   "cell_type": "code",
   "execution_count": 9,
   "id": "3b5b08ca",
   "metadata": {},
   "outputs": [],
   "source": [
    "# Parameters.\n",
    "data_collection = \"COPERNICUS/S2_SR_HARMONIZED\"\n",
    "# Time windows.\n",
    "start_date = \"2021-08-01\"\n",
    "end_date = \"2021-08-20\"\n",
    "# Color bands.\n",
    "bands = ['B4', 'B3', 'B2']\n",
    "# Coordinates\n",
    "coordinates = {\n",
    "    \"Germany\" : {\n",
    "        \"p1\" : [9.368331, 52.409899],\n",
    "        \"p2\" : [10.041240, 52.489424],\n",
    "        \"p3\" : [10.109178, 52.295949],\n",
    "        \"p4\" : [9.575380, 52.244477],\n",
    "    }\n",
    "}"
   ]
  },
  {
   "cell_type": "code",
   "execution_count": 10,
   "id": "69ffa94c",
   "metadata": {},
   "outputs": [],
   "source": [
    "# Create a polygon based on a JSON entry.\n",
    "polygonGeoJSON = ee.Geometry.Polygon(\n",
    "    [\n",
    "        # Outside ring -> [lat, long]\n",
    "        [\n",
    "            coordinates[\"Germany\"][\"p1\"],\n",
    "            coordinates[\"Germany\"][\"p2\"],\n",
    "            coordinates[\"Germany\"][\"p3\"],\n",
    "            coordinates[\"Germany\"][\"p4\"],\n",
    "            coordinates[\"Germany\"][\"p1\"],\n",
    "        ],\n",
    "    ]\n",
    ")"
   ]
  },
  {
   "cell_type": "code",
   "execution_count": 11,
   "id": "037aa70d",
   "metadata": {},
   "outputs": [],
   "source": [
    "Map = geemap.Map()\n",
    "Map.addLayer(polygonGeoJSON, {}, 'polygonGeoJSON')\n",
    "Map.centerObject(polygonGeoJSON)"
   ]
  },
  {
   "cell_type": "code",
   "execution_count": 12,
   "id": "3a98f3bb",
   "metadata": {},
   "outputs": [
    {
     "data": {
      "application/vnd.jupyter.widget-view+json": {
       "model_id": "e9c34b0809494b93a6c2ab0bdf4910fb",
       "version_major": 2,
       "version_minor": 0
      },
      "text/plain": [
       "Map(center=[52.3669505, 9.738754499999999], controls=(WidgetControl(options=['position', 'transparent_bg'], wi…"
      ]
     },
     "execution_count": 12,
     "metadata": {},
     "output_type": "execute_result"
    }
   ],
   "source": [
    "Map"
   ]
  },
  {
   "cell_type": "code",
   "execution_count": 13,
   "id": "96b7579f",
   "metadata": {},
   "outputs": [],
   "source": [
    "image_collection = (\n",
    "    ee.ImageCollection(data_collection)\n",
    "    .select(bands)\n",
    "    .filterBounds(polygonGeoJSON)\n",
    "    .filterDate(start_date, end_date)\n",
    "    .filter(ee.Filter.lt('CLOUDY_PIXEL_PERCENTAGE', 10))\n",
    ")"
   ]
  },
  {
   "cell_type": "code",
   "execution_count": 14,
   "id": "3329720f",
   "metadata": {},
   "outputs": [
    {
     "name": "stdout",
     "output_type": "stream",
     "text": [
      "The size of the collection is: 1\n"
     ]
    }
   ],
   "source": [
    "print(f'The size of the collection is: {image_collection.size().getInfo()}')"
   ]
  },
  {
   "cell_type": "code",
   "execution_count": 15,
   "id": "435ef84e",
   "metadata": {},
   "outputs": [],
   "source": [
    "visualization = {\n",
    "    \"bands\" : bands,\n",
    "    \"min\": 300, \n",
    "    \"max\": 3500\n",
    "}\n",
    "\n",
    "Map.addLayer(image_collection, visualization, 'RGB')"
   ]
  },
  {
   "cell_type": "code",
   "execution_count": 16,
   "id": "c2226240",
   "metadata": {},
   "outputs": [
    {
     "name": "stdout",
     "output_type": "stream",
     "text": [
      "exporting 20210814T102031_20210814T102609_T32UNC to folder 'ClimateData' in GDrive\n"
     ]
    }
   ],
   "source": [
    "#for band in bands:\n",
    "tasks = geetools.batch.Export.imagecollection.toDrive(\n",
    "    collection=image_collection.select(bands), \n",
    "    folder='ClimateData',\n",
    "    verbose=True,\n",
    "    region=polygonGeoJSON)"
   ]
  }
 ],
 "metadata": {
  "kernelspec": {
   "display_name": "Python 3 (ipykernel)",
   "language": "python",
   "name": "python3"
  },
  "language_info": {
   "codemirror_mode": {
    "name": "ipython",
    "version": 3
   },
   "file_extension": ".py",
   "mimetype": "text/x-python",
   "name": "python",
   "nbconvert_exporter": "python",
   "pygments_lexer": "ipython3",
   "version": "3.8.10"
  },
  "vscode": {
   "interpreter": {
    "hash": "9ddfd1c309174266b0ba4c5427a43cfefa116d0b96facd961e6d5ba2d63c7662"
   }
  }
 },
 "nbformat": 4,
 "nbformat_minor": 5
}
