{
 "cells": [
  {
   "cell_type": "markdown",
   "id": "bd0f965a",
   "metadata": {},
   "source": [
    "# Data Extractor"
   ]
  },
  {
   "cell_type": "code",
   "execution_count": 12,
   "id": "a8f68704",
   "metadata": {},
   "outputs": [],
   "source": [
    "import ee\n",
    "\n",
    "service_account = 'tec-semester@plantgrowthcycle.iam.gserviceaccount.com'\n",
    "\n",
    "credentials = ee.ServiceAccountCredentials(\n",
    "    service_account,\n",
    "    'plantgrowthcycle-3acdcfc1f75c.json')\n",
    "\n",
    "ee.Initialize(credentials)\n",
    "\n",
    "import geetools\n",
    "import geemap\n",
    "import os\n",
    "\n",
    "from typing import Union, List, Dict\n",
    "from pydrive.auth import GoogleAuth\n",
    "from pydrive.drive import GoogleDrive\n",
    "from oauth2client.service_account import ServiceAccountCredentials"
   ]
  },
  {
   "cell_type": "code",
   "execution_count": 38,
   "id": "678150a0",
   "metadata": {},
   "outputs": [],
   "source": [
    "class DataExtractor():\n",
    "    \n",
    "    def __init__(self, data_collection, start_date, end_date, bands):\n",
    "        self.data_collection = data_collection\n",
    "        self.start_date = start_date\n",
    "        self.end_date = end_date\n",
    "        self.bands = bands\n",
    "        self.point = None\n",
    "        self.region = None\n",
    "        self.image_collection = None\n",
    "        self.Map = None\n",
    " \n",
    "    def set_point(self, point):\n",
    "        self.point = point\n",
    "        \n",
    "    def set_interest_region(self, meters):\n",
    "        \"\"\" \n",
    "        Select an arbitrary point and a distance in (meters),\n",
    "        to construct a rectangle centered on the given point.\n",
    "        \"\"\"\n",
    "        point = ee.Geometry.Point(self.point)        \n",
    "        self.region = point.buffer(meters).bounds()\n",
    "        \n",
    "        Map = geemap.Map()\n",
    "        Map.setCenter(self.point[0], self.point[1],zoom=15)\n",
    "        Map.addLayer(point,\n",
    "             {'color': 'black'},\n",
    "             'Geometry [black]: point')\n",
    "        \n",
    "        Map.addLayer(self.region)\n",
    "        \n",
    "        self.Map = Map\n",
    "        \n",
    "        return self.Map\n",
    "\n",
    "    def get_data_visualization(self):\n",
    "        \"\"\" Get the Earth Engine image collection with the desired characteristics \"\"\"\n",
    "        self.image_collection = (\n",
    "            ee.ImageCollection(self.data_collection)\n",
    "            .select(self.bands)\n",
    "            .filterBounds(self.region)\n",
    "            .filterDate(self.start_date, self.end_date)\n",
    "            .filter(ee.Filter.lt('CLOUDY_PIXEL_PERCENTAGE', 30))\n",
    "        )\n",
    "        \n",
    "        print(f'The size of the collection is: {self.image_collection.size().getInfo()}')\n",
    "\n",
    "        visualization = {\n",
    "            \"bands\" : self.bands[0:3],\n",
    "            \"min\": 300, \n",
    "            \"max\": 3500\n",
    "        }\n",
    "\n",
    "        self.Map.addLayer(\n",
    "            ee_object=self.image_collection, \n",
    "            vis_params=visualization,\n",
    "            name=\"Sentinel-2\",\n",
    "            shown=False)\n",
    "\n",
    "        self.Map.add_time_slider(\n",
    "            ee_object=self.image_collection,\n",
    "            vis_params=visualization,\n",
    "            time_interval=5\n",
    "        )\n",
    "        \n",
    "    \n",
    "    def extract_data(self, folder_name = \"ClimateDate\"):\n",
    "        \"\"\" Iterates over the ImageCollection and send the images to Drive \"\"\"        \n",
    "        for band in self.bands:\n",
    "            extra = dict(sat=\"S-HARMONIZED\", band=band)\n",
    "            geetools.batch.Export.imagecollection.toDrive(\n",
    "                collection=self.image_collection.select(band),\n",
    "                region=self.region,\n",
    "                namePattern=\"{sat}_{id}_{system_date}_{band}\",\n",
    "                datePattern = \"ddMMMy\",\n",
    "                dataType=\"int\",\n",
    "                folder=folder_name,\n",
    "                extra=extra,\n",
    "                verbose=True\n",
    "            )"
   ]
  },
  {
   "cell_type": "code",
   "execution_count": 46,
   "id": "3b5b08ca",
   "metadata": {},
   "outputs": [],
   "source": [
    "# Parameters.\n",
    "data_collection = \"COPERNICUS/S2_SR_HARMONIZED\"\n",
    "# Color bands.\n",
    "bands =  [\"B4\",\"B3\",\"B2\",\"B8\"] # RGB channels.\n",
    "\n",
    "# TODO: Use a database entry.\n",
    "# Destination folder.\n",
    "folder_name = \"ClimateAiDataManitoba\"\n",
    "# Time windows.\n",
    "start_date = \"2020-04-01\"\n",
    "end_date = \"2021-04-01\"\n",
    "# Coordinates\n",
    "coordinates = {\n",
    "    \n",
    "    #Old trials\n",
    "    \"Germany\" : {\n",
    "        \"0\" : [10.109178, 52.295949],\n",
    "    } ,\n",
    "    \"Iowa1\" : {\n",
    "        \"0\" : [-79.89996820467965, 43.027634245865684],\n",
    "    },\n",
    " \n",
    "    #New trials\n",
    "    \"Iowa2\" : {\n",
    "        \"0\" : [-93.78163323429821, 41.75739907371553],\n",
    "    },\n",
    "     \"Iowa3\" : {\n",
    "        \"0\" : [ -91.4897364590952, 41.824337504215926],\n",
    "    },\n",
    "    \"Wisconsin\" : {\n",
    "        \"0\" : [-88.82790109139866,42.69094494303969],\n",
    "    },\n",
    "    \"Manitoba\" : {\n",
    "        \"0\" : [ -98.18843893508559, 49.48420963201276],\n",
    "    }\n",
    "}"
   ]
  },
  {
   "cell_type": "code",
   "execution_count": 48,
   "id": "74901b90",
   "metadata": {},
   "outputs": [
    {
     "data": {
      "application/vnd.jupyter.widget-view+json": {
       "model_id": "81155049584d4200b575ff9a88ba1f21",
       "version_major": 2,
       "version_minor": 0
      },
      "text/plain": [
       "Map(center=[41.75739907371553, -93.78163323429821], controls=(WidgetControl(options=['position', 'transparent_…"
      ]
     },
     "execution_count": 48,
     "metadata": {},
     "output_type": "execute_result"
    }
   ],
   "source": [
    "# Call the DataExtractor class.\n",
    "D = DataExtractor(\n",
    "    data_collection=data_collection,\n",
    "    start_date=start_date,\n",
    "    end_date=end_date,\n",
    "    bands=bands\n",
    ")\n",
    "\n",
    "point=D.set_point(coordinates[\"Iowa2\"][\"0\"])\n",
    "D.set_interest_region(800)\n"
   ]
  },
  {
   "cell_type": "code",
   "execution_count": 49,
   "id": "123dc38e",
   "metadata": {},
   "outputs": [
    {
     "name": "stdout",
     "output_type": "stream",
     "text": [
      "The size of the collection is: 58\n"
     ]
    }
   ],
   "source": [
    "D.get_data_visualization()"
   ]
  },
  {
   "cell_type": "code",
   "execution_count": null,
   "id": "7d011f79",
   "metadata": {},
   "outputs": [],
   "source": [
    "D.extract_data(folder_name)"
   ]
  },
  {
   "cell_type": "code",
   "execution_count": null,
   "id": "cfc3f8cb",
   "metadata": {},
   "outputs": [],
   "source": [
    "# Authenticate to Google Drive (of the Service account).\n",
    "scopes = ['https://www.googleapis.com/auth/drive']\n",
    "\n",
    "gauth = GoogleAuth()\n",
    "gauth.credentials = ServiceAccountCredentials.from_json_keyfile_name(\n",
    "    \"plantgrowthcycle-3acdcfc1f75c.json\"\n",
    "    , scopes=scopes\n",
    ")\n",
    "\n",
    "drive = GoogleDrive(gauth)"
   ]
  },
  {
   "cell_type": "code",
   "execution_count": null,
   "id": "77ed25a9-fa18-4a7a-bd20-583073b5340f",
   "metadata": {},
   "outputs": [],
   "source": []
  },
  {
   "cell_type": "code",
   "execution_count": null,
   "id": "864d2cbe",
   "metadata": {},
   "outputs": [],
   "source": [
    "def retrieve_data_from_Drive(\n",
    "    folder_name: Union[str, None]\n",
    ") -> None:\n",
    "    \"\"\"\n",
    "    Extract \n",
    "    \"\"\"\n",
    "    # Get the list of all folders in the database.\n",
    "    folder_list = drive.ListFile({'q': \"'root' in parents and trashed=false\"}).GetList()\n",
    "    \n",
    "    # Folder ID.\n",
    "    folder_id = None\n",
    "    \n",
    "    for folder in folder_list:\n",
    "        if folder['title'] == folder_name:\n",
    "            folder_id = folder['id']\n",
    "            print('title: %s, id: %s' % (folder['title'], folder['id']))\n",
    "            print(\"----------------------------------------------\")\n",
    "            \n",
    "    if folder_id:\n",
    "        file_list = drive.ListFile({'q': \"'{}' in parents and trashed=false\".format(folder_id)}).GetList()\n",
    "    \n",
    "    for i, file1 in enumerate(sorted(file_list, key = lambda x: x['title']), start=1):\n",
    "        print('Downloading {} from GDrive ({}/{})'.format(file1['title'], i, len(file_list)))\n",
    "        file1.GetContentFile(file1['title'])"
   ]
  },
  {
   "cell_type": "code",
   "execution_count": null,
   "id": "be6d1aae",
   "metadata": {},
   "outputs": [],
   "source": [
    "retrieve_data_from_Drive(folder_name)"
   ]
  },
  {
   "cell_type": "code",
   "execution_count": null,
   "id": "e75cb7c7-4844-4c14-a687-02680dc00e03",
   "metadata": {},
   "outputs": [],
   "source": []
  }
 ],
 "metadata": {
  "kernelspec": {
   "display_name": "Python 3 (ipykernel)",
   "language": "python",
   "name": "python3"
  },
  "language_info": {
   "codemirror_mode": {
    "name": "ipython",
    "version": 3
   },
   "file_extension": ".py",
   "mimetype": "text/x-python",
   "name": "python",
   "nbconvert_exporter": "python",
   "pygments_lexer": "ipython3",
   "version": "3.10.7"
  },
  "vscode": {
   "interpreter": {
    "hash": "916dbcbb3f70747c44a77c7bcd40155683ae19c65e1c03b4aa3499c5328201f1"
   }
  }
 },
 "nbformat": 4,
 "nbformat_minor": 5
}
