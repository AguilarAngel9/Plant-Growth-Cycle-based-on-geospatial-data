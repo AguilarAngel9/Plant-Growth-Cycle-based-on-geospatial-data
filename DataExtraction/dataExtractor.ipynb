{
 "cells": [
  {
   "cell_type": "markdown",
   "id": "bd0f965a",
   "metadata": {},
   "source": [
    "# Data Extractor"
   ]
  },
  {
   "cell_type": "code",
   "execution_count": 1,
   "id": "e61c1594",
   "metadata": {},
   "outputs": [
    {
     "data": {
      "text/html": [
       "<p>To authorize access needed by Earth Engine, open the following\n",
       "        URL in a web browser and follow the instructions:</p>\n",
       "        <p><a href=https://code.earthengine.google.com/client-auth?scopes=https%3A//www.googleapis.com/auth/earthengine%20https%3A//www.googleapis.com/auth/devstorage.full_control&request_id=koRtsYYBBKMFgtFCG7DN7Hg36B16h3aSP9dyGVuIxAw&tc=sJbm0I8iBe4o-IJeB4aATDWArE6vzDZ1tV31QWF6Xp0&cc=K_VUtyJAGimL3omKnleQAVMmy0qBPQM67KmHh-ko-fM>https://code.earthengine.google.com/client-auth?scopes=https%3A//www.googleapis.com/auth/earthengine%20https%3A//www.googleapis.com/auth/devstorage.full_control&request_id=koRtsYYBBKMFgtFCG7DN7Hg36B16h3aSP9dyGVuIxAw&tc=sJbm0I8iBe4o-IJeB4aATDWArE6vzDZ1tV31QWF6Xp0&cc=K_VUtyJAGimL3omKnleQAVMmy0qBPQM67KmHh-ko-fM</a></p>\n",
       "        <p>The authorization workflow will generate a code, which you should paste in the box below.</p>\n",
       "        "
      ],
      "text/plain": [
       "<IPython.core.display.HTML object>"
      ]
     },
     "metadata": {},
     "output_type": "display_data"
    },
    {
     "name": "stdout",
     "output_type": "stream",
     "text": [
      "Enter verification code: 4/1ARtbsJoRkgTPPjVQfT-m41enF447KlMgVZ2u9iRuLp1soLUInHipgoAzmYI\n",
      "\n",
      "Successfully saved authorization token.\n"
     ]
    }
   ],
   "source": [
    "import ee\n",
    "ee.Initialize()\n",
    "ee.Authenticate()\n",
    "import geetools\n",
    "import geemap\n",
    "import os"
   ]
  },
  {
   "cell_type": "code",
   "execution_count": 2,
   "id": "3b5b08ca",
   "metadata": {},
   "outputs": [],
   "source": [
    "# Parameters.\n",
    "data_collection = \"COPERNICUS/S2_SR_HARMONIZED\"\n",
    "# Time windows.\n",
    "start_date = \"2021-08-01\"\n",
    "end_date = \"2021-08-20\"\n",
    "# Color bands.\n",
    "bands =  ['B4','B3','B2'] # RGB channels.\n",
    "# Coordinates\n",
    "coordinates = {\n",
    "    \"Germany\" : {\n",
    "        \"p1\" : [9.368331, 52.409899],\n",
    "        \"p2\" : [10.041240, 52.489424],\n",
    "        \"p3\" : [10.109178, 52.295949],\n",
    "        \"p4\" : [9.575380, 52.244477],\n",
    "    }\n",
    "}"
   ]
  },
  {
   "cell_type": "code",
   "execution_count": 3,
   "id": "69ffa94c",
   "metadata": {},
   "outputs": [],
   "source": [
    "# Create a polygon based on a JSON entry.\n",
    "polygonGeoJSON = ee.Geometry.Polygon(\n",
    "    [\n",
    "        # Outside ring -> [lat, long]\n",
    "        [\n",
    "            coordinates[\"Germany\"][\"p1\"],\n",
    "            coordinates[\"Germany\"][\"p2\"],\n",
    "            coordinates[\"Germany\"][\"p3\"],\n",
    "            coordinates[\"Germany\"][\"p4\"],\n",
    "            coordinates[\"Germany\"][\"p1\"],\n",
    "        ],\n",
    "    ]\n",
    ")"
   ]
  },
  {
   "cell_type": "code",
   "execution_count": 4,
   "id": "037aa70d",
   "metadata": {},
   "outputs": [],
   "source": [
    "Map = geemap.Map()\n",
    "Map.addLayer(polygonGeoJSON, {}, 'polygonGeoJSON')\n",
    "Map.centerObject(polygonGeoJSON)"
   ]
  },
  {
   "cell_type": "code",
   "execution_count": 5,
   "id": "3a98f3bb",
   "metadata": {},
   "outputs": [
    {
     "data": {
      "application/vnd.jupyter.widget-view+json": {
       "model_id": "e2d1997c31f342e7823586514fa5a5a7",
       "version_major": 2,
       "version_minor": 0
      },
      "text/plain": [
       "Map(center=[20, 0], controls=(WidgetControl(options=['position', 'transparent_bg'], widget=HBox(children=(Togg…"
      ]
     },
     "execution_count": 5,
     "metadata": {},
     "output_type": "execute_result"
    }
   ],
   "source": [
    "Map"
   ]
  },
  {
   "cell_type": "code",
   "execution_count": 6,
   "id": "96b7579f",
   "metadata": {},
   "outputs": [],
   "source": [
    "image_collection = (\n",
    "    ee.ImageCollection(data_collection)\n",
    "    .select(bands)\n",
    "    .filterBounds(polygonGeoJSON)\n",
    "    .filterDate(start_date, end_date)\n",
    "    .filter(ee.Filter.lt('CLOUDY_PIXEL_PERCENTAGE', 10))\n",
    ")"
   ]
  },
  {
   "cell_type": "code",
   "execution_count": 7,
   "id": "3329720f",
   "metadata": {},
   "outputs": [
    {
     "name": "stdout",
     "output_type": "stream",
     "text": [
      "The size of the collection is: 1\n"
     ]
    }
   ],
   "source": [
    "print(f'The size of the collection is: {image_collection.size().getInfo()}')"
   ]
  },
  {
   "cell_type": "code",
   "execution_count": 8,
   "id": "435ef84e",
   "metadata": {},
   "outputs": [],
   "source": [
    "visualization = {\n",
    "    \"bands\" : bands,\n",
    "    \"min\": 300, \n",
    "    \"max\": 3500\n",
    "}\n",
    "\n",
    "Map.addLayer(image_collection, visualization, 'RGB')"
   ]
  },
  {
   "cell_type": "code",
   "execution_count": 9,
   "id": "04958d26",
   "metadata": {},
   "outputs": [
    {
     "name": "stdout",
     "output_type": "stream",
     "text": [
      "exporting S-HARMONIZED_14Aug2021_B4 to folder 'ClimateData' in GDrive\n",
      "exporting S-HARMONIZED_14Aug2021_B3 to folder 'ClimateData' in GDrive\n",
      "exporting S-HARMONIZED_14Aug2021_B2 to folder 'ClimateData' in GDrive\n"
     ]
    }
   ],
   "source": [
    "for band in bands:\n",
    "    extra = dict(sat=\"S-HARMONIZED\", band=band)\n",
    "    geetools.batch.Export.imagecollection.toDrive(\n",
    "        collection=image_collection.select(band),\n",
    "        region=polygonGeoJSON,\n",
    "        namePattern=\"{sat}_{system_date}_{band}\",\n",
    "        datePattern = \"ddMMMy\",\n",
    "        dataType=\"int\",\n",
    "        folder=\"ClimateData\",\n",
    "        extra=extra,\n",
    "        verbose=True\n",
    "    )"
   ]
  }
 ],
 "metadata": {
  "kernelspec": {
   "display_name": "Python 3 (ipykernel)",
   "language": "python",
   "name": "python3"
  },
  "language_info": {
   "codemirror_mode": {
    "name": "ipython",
    "version": 3
   },
   "file_extension": ".py",
   "mimetype": "text/x-python",
   "name": "python",
   "nbconvert_exporter": "python",
   "pygments_lexer": "ipython3",
   "version": "3.8.10"
  },
  "vscode": {
   "interpreter": {
    "hash": "9ddfd1c309174266b0ba4c5427a43cfefa116d0b96facd961e6d5ba2d63c7662"
   }
  }
 },
 "nbformat": 4,
 "nbformat_minor": 5
}
