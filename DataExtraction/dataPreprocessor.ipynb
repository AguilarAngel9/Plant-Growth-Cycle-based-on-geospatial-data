{
 "cells": [
  {
   "cell_type": "markdown",
   "metadata": {},
   "source": [
    "# Data Preprocessor\n",
    "\n",
    "As we could observe in the dataValidation notebook, the data present non-uniform variations in time, that is, there is no equally spaced sampling, which complicates the time series analysis, and therefore the inference proposals. In order to correct this, a bibliographic search of NDVI curves was carried out to better discriminate the satellite images.\n",
    "\n",
    "Our principal effort will be based on the work of Egbert et al A Comparative Analysis of Phenological Curves  for Major Crops in Kansas that states:\n",
    "\n",
    "> The results seem to suggest that time-series NDVI response curves for crops over a growing period for one year of valid ground  reference data may be useful for mapping crops for a different year when minor temporal shifts in the NDVI values (resulting from inter-annual climate varia-tions or changes in agricultural management practices) are taken into account."
   ]
  },
  {
   "cell_type": "code",
   "execution_count": null,
   "metadata": {},
   "outputs": [],
   "source": []
  }
 ],
 "metadata": {
  "kernelspec": {
   "display_name": "Python 3.8.10 ('venvpgc': venv)",
   "language": "python",
   "name": "python3"
  },
  "language_info": {
   "name": "python",
   "version": "3.8.10"
  },
  "orig_nbformat": 4,
  "vscode": {
   "interpreter": {
    "hash": "458324898a307e82937a0201a3cb78a6e01bf2fa4d39f3dd0863d1bd1c8ab461"
   }
  }
 },
 "nbformat": 4,
 "nbformat_minor": 2
}
