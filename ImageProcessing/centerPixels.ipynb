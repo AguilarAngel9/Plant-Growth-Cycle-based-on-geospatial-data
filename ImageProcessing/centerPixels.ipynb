{
 "cells": [
  {
   "cell_type": "code",
   "execution_count": 95,
   "metadata": {},
   "outputs": [],
   "source": [
    "from typing import Dict, List, Tuple, Union\n",
    "from skimage import exposure, img_as_ubyte\n",
    "import rasterio\n",
    "import pathlib\n",
    "import re\n",
    "import cv2\n",
    "import numpy as np\n",
    "from matplotlib import pyplot as plt\n",
    "import matplotlib.gridspec as gridspec\n",
    "from mpl_toolkits.axes_grid1 import make_axes_locatable"
   ]
  },
  {
   "cell_type": "code",
   "execution_count": 96,
   "metadata": {},
   "outputs": [],
   "source": [
    "def load_landsat_image(\n",
    "    img_folder: Union[str, None],\n",
    "    bands: Union[List[str], None]\n",
    ") -> Dict:\n",
    "    \"\"\"\n",
    "    Take a folder path and return a dict with the raw vectors extracted from the Earth Engine.\n",
    "    \"\"\"\n",
    "    # Dictionary to save the image.\n",
    "    images_dict = {}\n",
    "\n",
    "    if img_folder:\n",
    "        # Use the provided path.\n",
    "        path = pathlib.Path(img_folder)\n",
    "    else:\n",
    "        # Get the path to retrieve.\n",
    "        path = pathlib.Path(__file__).parent\n",
    "\n",
    "    # Get the list of all files.\n",
    "    files = [f.name for f in path.glob('**/*.tif')]\n",
    "    # Parse all of filenames to get the unique ones.\n",
    "    files = set([re.search('_[0-9](.*)[0-9]_', x).group() for x in files])\n",
    "    # Dict of images to return.\n",
    "    images_dict = {}\n",
    "\n",
    "    # Iterate over the files.\n",
    "    for pat in files:\n",
    "        image = {}\n",
    "        # Iterate over the bands.\n",
    "        for band in bands:\n",
    "            file = next(path.glob(f'*{pat}{band}.tif'))\n",
    "            #print(f'Opening file {file}')\n",
    "            ds = rasterio.open(file)\n",
    "            image.update({band: ds.read(1)})\n",
    "        # Update the main dict.\n",
    "        images_dict.update(\n",
    "            {pat.replace('_','') : image}\n",
    "        )\n",
    "\n",
    "    return images_dict\n",
    "\n",
    "def convert_to_eight_bits(\n",
    "    img: Union[Dict, None]\n",
    ") -> np.array:\n",
    "    \"\"\"\n",
    "    To reescale image to 8 bits.\n",
    "    \"\"\"\n",
    "    img_stack = np.stack(\n",
    "        [img['B4'], img['B3'], img['B2'], img['B8']]\n",
    "        , axis=-1)\n",
    "\n",
    "    scaled_img = img_as_ubyte(\n",
    "        exposure.rescale_intensity(img_stack)\n",
    "    )\n",
    "    \n",
    "    return scaled_img\n",
    "\n",
    "def stack_to_dict(\n",
    "    stack: Union[np.stack, None],\n",
    "    bands: List[str] = ['B4','B3','B2','B8']\n",
    ") -> Dict:\n",
    "    \"\"\"\n",
    "    Unstack the rescaled dictionary.\n",
    "    \"\"\"\n",
    "    dimension = stack.shape\n",
    "\n",
    "    # Create the arrays of the bands.\n",
    "    bands_lst = [[] for band in bands]\n",
    "    \n",
    "    for i in range(dimension[0]):\n",
    "        for j in range(dimension[1]):\n",
    "            # R\n",
    "            bands_lst[0].append(\n",
    "                stack[i][j][0]\n",
    "            )\n",
    "            # G\n",
    "            bands_lst[1].append(\n",
    "                stack[i][j][1]\n",
    "            )\n",
    "            # B\n",
    "            bands_lst[2].append(\n",
    "                stack[i][j][2]\n",
    "            )\n",
    "            # NIR\n",
    "            bands_lst[3].append(\n",
    "                stack[i][j][3]\n",
    "            )\n",
    "    \n",
    "    # Create\n",
    "    unstack_dict = {bands[i] : bands_lst[i]  for i in range(len(bands))}\n",
    "            \n",
    "    return unstack_dict\n",
    "\n",
    "def get_center_pixels(image_data, diag_length=(3,3)):\n",
    "\n",
    "    drawing = image_data.copy()\n",
    "    h, w, _ = image_data.shape\n",
    "    rows, cols = diag_length\n",
    "    \n",
    "    center = (round(h/2), round(w/2))\n",
    "\n",
    "    square = image_data[center[0]-cols:center[0]+cols, center[1]-rows:center[1]+rows]\n",
    "\n",
    "    cv2.rectangle(drawing, (center[0]-cols, center[1]-rows), (center[0]+cols, center[1]+rows), (255, 255, 255))\n",
    "    plt.imshow(drawing)\n",
    "\n",
    "    return square\n",
    "\n",
    "def calculate_ndvi(image_data):\n",
    "    \n",
    "    b4 = np.array(image_data[\"B4\"]).reshape(6,6,1)\n",
    "    b8 = np.array(image_data[\"B8\"]).reshape(6,6,1)\n",
    "\n",
    "    visr = b4.astype(\"float64\")\n",
    "    nir = b8.astype(\"float64\")\n",
    "\n",
    "    ndvi_matrix=np.where((nir+visr)==0., 0, (nir-visr)/(nir+visr))\n",
    "\n",
    "    fig, ax = plt.subplots()\n",
    "    divider = make_axes_locatable(ax)\n",
    "    cax = divider.append_axes('right', size='5%', pad=0.05)\n",
    "\n",
    "    im = ax.imshow(ndvi_matrix, cmap='viridis')\n",
    "    fig.colorbar(im, cax=cax, orientation='vertical')\n",
    "    plt.show()\n",
    "\n",
    "    return ndvi_matrix\n",
    "\n",
    "def calculate_savi(image_data):\n",
    "\n",
    "    b4 = np.array(image_data[\"B4\"]).reshape(6,6,1)\n",
    "    b8 = np.array(image_data[\"B8\"]).reshape(6,6,1)\n",
    "\n",
    "    l=0\n",
    "\n",
    "    visr = b4.astype(\"float64\")\n",
    "    nir = b8.astype(\"float64\")\n",
    "\n",
    "    savi_matrix=np.where((visr+nir + l)==0., 0, ((nir-visr)/(visr+nir + l) ) * (1+l))\n",
    "\n",
    "    fig, ax = plt.subplots()\n",
    "    divider = make_axes_locatable(ax)\n",
    "    cax = divider.append_axes('right', size='5%', pad=0.05)\n",
    "    \n",
    "    im = ax.imshow(savi_matrix, cmap='RdYlGn')\n",
    "\n",
    "    fig.colorbar(im, cax=cax, orientation='vertical')\n",
    "    plt.show()\n",
    "\n",
    "    return savi_matrix\n",
    "\n",
    "\n",
    "def calculate_gci(image_data):\n",
    "\n",
    "    b3 = np.array(image_data[\"B3\"]).reshape(6,6,1)\n",
    "    b8 = np.array(image_data[\"B8\"]).reshape(6,6,1)\n",
    "\n",
    "    visg = b3.astype('float64')\n",
    "    nir = b8.astype('float64')\n",
    "\n",
    "    gci_matrix=np.where((visg)==0., 0, (nir)/(visg) - 1)\n",
    "\n",
    "    fig, ax = plt.subplots()\n",
    "    divider = make_axes_locatable(ax)\n",
    "    cax = divider.append_axes('right', size='5%', pad=0.05)\n",
    "    im = ax.imshow(gci_matrix, cmap='RdYlGn')\n",
    "    fig.colorbar(im, cax=cax, orientation='vertical')\n",
    "    plt.show()\n",
    "\n",
    "    return gci_matrix"
   ]
  },
  {
   "cell_type": "code",
   "execution_count": 97,
   "metadata": {},
   "outputs": [],
   "source": [
    "IMGS_PATH = '/home/mauricio/code/Plant-Growth-Cycle-based-on-geospatial-data/Manitoba1-1/'\n",
    "band_labels = [\"B4\", \"B3\", \"B2\", \"B8\"]\n",
    "images = load_landsat_image(IMGS_PATH, band_labels)\n",
    "img_keys = list(images.keys())"
   ]
  },
  {
   "cell_type": "code",
   "execution_count": 98,
   "metadata": {},
   "outputs": [],
   "source": [
    "test = convert_to_eight_bits(images[img_keys[0]])"
   ]
  },
  {
   "cell_type": "code",
   "execution_count": 99,
   "metadata": {},
   "outputs": [
    {
     "data": {
      "image/png": "[encoded data removed]",
      "text/plain": [
       "<Figure size 640x480 with 1 Axes>"
      ]
     },
     "metadata": {},
     "output_type": "display_data"
    }
   ],
   "source": [
    "test_region = get_center_pixels(test)"
   ]
  },
  {
   "cell_type": "code",
   "execution_count": 100,
   "metadata": {},
   "outputs": [
    {
     "data": {
      "text/plain": [
       "array([[[36, 27, 22, 80],\n",
       "        [40, 28, 22, 86],\n",
       "        [37, 25, 20, 82],\n",
       "        [36, 26, 20, 83],\n",
       "        [38, 27, 21, 84],\n",
       "        [35, 25, 20, 79]],\n",
       "\n",
       "       [[35, 27, 21, 81],\n",
       "        [37, 26, 21, 82],\n",
       "        [36, 25, 20, 80],\n",
       "        [36, 26, 19, 81],\n",
       "        [38, 27, 21, 84],\n",
       "        [35, 26, 21, 83]],\n",
       "\n",
       "       [[38, 28, 21, 84],\n",
       "        [38, 26, 20, 83],\n",
       "        [37, 26, 20, 84],\n",
       "        [36, 25, 20, 82],\n",
       "        [42, 30, 24, 89],\n",
       "        [36, 31, 23, 97]],\n",
       "\n",
       "       [[41, 30, 23, 89],\n",
       "        [38, 27, 22, 84],\n",
       "        [37, 26, 19, 84],\n",
       "        [38, 26, 21, 86],\n",
       "        [42, 30, 24, 90],\n",
       "        [35, 31, 21, 98]],\n",
       "\n",
       "       [[41, 31, 23, 95],\n",
       "        [39, 28, 21, 87],\n",
       "        [37, 27, 20, 91],\n",
       "        [40, 30, 23, 96],\n",
       "        [36, 28, 22, 88],\n",
       "        [32, 27, 21, 90]],\n",
       "\n",
       "       [[40, 30, 24, 90],\n",
       "        [39, 28, 22, 86],\n",
       "        [37, 27, 20, 84],\n",
       "        [40, 30, 23, 88],\n",
       "        [38, 27, 21, 83],\n",
       "        [38, 30, 24, 88]]], dtype=uint8)"
      ]
     },
     "execution_count": 100,
     "metadata": {},
     "output_type": "execute_result"
    }
   ],
   "source": [
    "test_region"
   ]
  },
  {
   "cell_type": "code",
   "execution_count": 101,
   "metadata": {},
   "outputs": [
    {
     "data": {
      "text/plain": [
       "<matplotlib.image.AxesImage at 0x7fefde0f8250>"
      ]
     },
     "execution_count": 101,
     "metadata": {},
     "output_type": "execute_result"
    },
    {
     "data": {
      "image/png": "[encoded data removed]",
      "text/plain": [
       "<Figure size 640x480 with 1 Axes>"
      ]
     },
     "metadata": {},
     "output_type": "display_data"
    }
   ],
   "source": [
    "plt.imshow(test_region)"
   ]
  },
  {
   "cell_type": "code",
   "execution_count": 102,
   "metadata": {},
   "outputs": [
    {
     "data": {
      "text/plain": [
       "[36,\n",
       " 40,\n",
       " 37,\n",
       " 36,\n",
       " 38,\n",
       " 35,\n",
       " 35,\n",
       " 37,\n",
       " 36,\n",
       " 36,\n",
       " 38,\n",
       " 35,\n",
       " 38,\n",
       " 38,\n",
       " 37,\n",
       " 36,\n",
       " 42,\n",
       " 36,\n",
       " 41,\n",
       " 38,\n",
       " 37,\n",
       " 38,\n",
       " 42,\n",
       " 35,\n",
       " 41,\n",
       " 39,\n",
       " 37,\n",
       " 40,\n",
       " 36,\n",
       " 32,\n",
       " 40,\n",
       " 39,\n",
       " 37,\n",
       " 40,\n",
       " 38,\n",
       " 38]"
      ]
     },
     "execution_count": 102,
     "metadata": {},
     "output_type": "execute_result"
    }
   ],
   "source": [
    "test_region_bands = stack_to_dict(test_region)\n",
    "test_region_bands[\"B4\"]"
   ]
  },
  {
   "cell_type": "code",
   "execution_count": 103,
   "metadata": {},
   "outputs": [
    {
     "data": {
      "text/plain": [
       "<matplotlib.image.AxesImage at 0x7fefde111c70>"
      ]
     },
     "execution_count": 103,
     "metadata": {},
     "output_type": "execute_result"
    },
    {
     "data": {
      "image/png": "[encoded data removed]",
      "text/plain": [
       "<Figure size 640x480 with 1 Axes>"
      ]
     },
     "metadata": {},
     "output_type": "display_data"
    }
   ],
   "source": [
    "plt.imshow(np.array(test_region_bands[\"B8\"]).reshape(6,6,1), cmap=\"hot\")"
   ]
  },
  {
   "cell_type": "code",
   "execution_count": 104,
   "metadata": {},
   "outputs": [
    {
     "data": {
      "image/png": "[encoded data removed]",
      "text/plain": [
       "<Figure size 640x480 with 2 Axes>"
      ]
     },
     "metadata": {},
     "output_type": "display_data"
    }
   ],
   "source": [
    "ndvi = calculate_ndvi(test_region_bands)"
   ]
  },
  {
   "cell_type": "code",
   "execution_count": 105,
   "metadata": {},
   "outputs": [
    {
     "data": {
      "text/plain": [
       "array([[[0.37931034],\n",
       "        [0.36507937],\n",
       "        [0.37815126],\n",
       "        [0.39495798],\n",
       "        [0.37704918],\n",
       "        [0.38596491]],\n",
       "\n",
       "       [[0.39655172],\n",
       "        [0.37815126],\n",
       "        [0.37931034],\n",
       "        [0.38461538],\n",
       "        [0.37704918],\n",
       "        [0.40677966]],\n",
       "\n",
       "       [[0.37704918],\n",
       "        [0.37190083],\n",
       "        [0.38842975],\n",
       "        [0.38983051],\n",
       "        [0.35877863],\n",
       "        [0.45864662]],\n",
       "\n",
       "       [[0.36923077],\n",
       "        [0.37704918],\n",
       "        [0.38842975],\n",
       "        [0.38709677],\n",
       "        [0.36363636],\n",
       "        [0.47368421]],\n",
       "\n",
       "       [[0.39705882],\n",
       "        [0.38095238],\n",
       "        [0.421875  ],\n",
       "        [0.41176471],\n",
       "        [0.41935484],\n",
       "        [0.47540984]],\n",
       "\n",
       "       [[0.38461538],\n",
       "        [0.376     ],\n",
       "        [0.38842975],\n",
       "        [0.375     ],\n",
       "        [0.37190083],\n",
       "        [0.3968254 ]]])"
      ]
     },
     "execution_count": 105,
     "metadata": {},
     "output_type": "execute_result"
    }
   ],
   "source": [
    "ndvi"
   ]
  },
  {
   "cell_type": "code",
   "execution_count": 106,
   "metadata": {},
   "outputs": [
    {
     "ename": "IndentationError",
     "evalue": "expected an indented block (287854465.py, line 5)",
     "output_type": "error",
     "traceback": [
      "\u001b[0;36m  Cell \u001b[0;32mIn [106], line 5\u001b[0;36m\u001b[0m\n\u001b[0;31m    def generate_time_series(index, folder_path):\u001b[0m\n\u001b[0m    ^\u001b[0m\n\u001b[0;31mIndentationError\u001b[0m\u001b[0;31m:\u001b[0m expected an indented block\n"
     ]
    }
   ],
   "source": [
    "def calculate_index_avg(index_matrix):\n",
    "    \n",
    "\n",
    "\n",
    "def generate_time_series(index, folder_path):\n",
    "\n",
    "    "
   ]
  },
  {
   "cell_type": "code",
   "execution_count": null,
   "metadata": {},
   "outputs": [
    {
     "data": {
      "text/plain": [
       "array([[[80],\n",
       "        [86],\n",
       "        [82],\n",
       "        [83],\n",
       "        [84],\n",
       "        [79]],\n",
       "\n",
       "       [[81],\n",
       "        [82],\n",
       "        [80],\n",
       "        [81],\n",
       "        [84],\n",
       "        [83]],\n",
       "\n",
       "       [[84],\n",
       "        [83],\n",
       "        [84],\n",
       "        [82],\n",
       "        [89],\n",
       "        [97]],\n",
       "\n",
       "       [[89],\n",
       "        [84],\n",
       "        [84],\n",
       "        [86],\n",
       "        [90],\n",
       "        [98]],\n",
       "\n",
       "       [[95],\n",
       "        [87],\n",
       "        [91],\n",
       "        [96],\n",
       "        [88],\n",
       "        [90]],\n",
       "\n",
       "       [[90],\n",
       "        [86],\n",
       "        [84],\n",
       "        [88],\n",
       "        [83],\n",
       "        [88]]], dtype=uint8)"
      ]
     },
     "execution_count": 68,
     "metadata": {},
     "output_type": "execute_result"
    }
   ],
   "source": [
    "np.array(test_region_bands[\"B8\"]).reshape(6,6,1)"
   ]
  },
  {
   "cell_type": "code",
   "execution_count": null,
   "metadata": {},
   "outputs": [],
   "source": []
  }
 ],
 "metadata": {
  "kernelspec": {
   "display_name": "Python 3.8.10 64-bit",
   "language": "python",
   "name": "python3"
  },
  "language_info": {
   "codemirror_mode": {
    "name": "ipython",
    "version": 3
   },
   "file_extension": ".py",
   "mimetype": "text/x-python",
   "name": "python",
   "nbconvert_exporter": "python",
   "pygments_lexer": "ipython3",
   "version": "3.8.10"
  },
  "orig_nbformat": 4,
  "vscode": {
   "interpreter": {
    "hash": "916dbcbb3f70747c44a77c7bcd40155683ae19c65e1c03b4aa3499c5328201f1"
   }
  }
 },
 "nbformat": 4,
 "nbformat_minor": 2
}
