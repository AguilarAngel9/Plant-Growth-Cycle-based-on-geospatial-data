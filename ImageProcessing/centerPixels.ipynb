{
 "cells": [
  {
   "cell_type": "code",
   "execution_count": 2,
   "metadata": {},
   "outputs": [],
   "source": [
    "from typing import Dict, List, Tuple, Union\n",
    "from skimage import exposure, img_as_ubyte\n",
    "import rasterio\n",
    "import pathlib\n",
    "import re\n",
    "import cv2\n",
    "import numpy as np\n",
    "from matplotlib import pyplot as plt\n",
    "import matplotlib.gridspec as gridspec"
   ]
  },
  {
   "cell_type": "code",
   "execution_count": 4,
   "metadata": {},
   "outputs": [],
   "source": [
    "def load_landsat_image(\n",
    "    img_folder: Union[str, None],\n",
    "    bands: Union[List[str], None]\n",
    ") -> Dict:\n",
    "    \"\"\"\n",
    "    Take a folder path and return a dict with the raw vectors extracted from the Earth Engine.\n",
    "    \"\"\"\n",
    "    # Dictionary to save the image.\n",
    "    images_dict = {}\n",
    "\n",
    "    if img_folder:\n",
    "        # Use the provided path.\n",
    "        path = pathlib.Path(img_folder)\n",
    "    else:\n",
    "        # Get the path to retrieve.\n",
    "        path = pathlib.Path(__file__).parent\n",
    "\n",
    "    # Get the list of all files.\n",
    "    files = [f.name for f in path.glob('**/*.tif')]\n",
    "    # Parse all of filenames to get the unique ones.\n",
    "    files = set([re.search('_[0-9](.*)[0-9]_', x).group() for x in files])\n",
    "    # Dict of images to return.\n",
    "    images_dict = {}\n",
    "\n",
    "    # Iterate over the files.\n",
    "    for pat in files:\n",
    "        image = {}\n",
    "        # Iterate over the bands.\n",
    "        for band in bands:\n",
    "            file = next(path.glob(f'*{pat}{band}.tif'))\n",
    "            #print(f'Opening file {file}')\n",
    "            ds = rasterio.open(file)\n",
    "            image.update({band: ds.read(1)})\n",
    "        # Update the main dict.\n",
    "        images_dict.update(\n",
    "            {pat.replace('_','') : image}\n",
    "        )\n",
    "\n",
    "    return images_dict\n",
    "\n",
    "def convert_to_eight_bits(\n",
    "    img: Union[Dict, None]\n",
    ") -> np.array:\n",
    "    \"\"\"\n",
    "    To reescale image to 8 bits.\n",
    "    \"\"\"\n",
    "    img_stack = np.stack(\n",
    "        [img['B4'], img['B3'], img['B2']]\n",
    "        , axis=-1)\n",
    "\n",
    "    scaled_img = img_as_ubyte(\n",
    "        exposure.rescale_intensity(img_stack)\n",
    "    )\n",
    "    \n",
    "    return scaled_img"
   ]
  },
  {
   "cell_type": "code",
   "execution_count": 16,
   "metadata": {},
   "outputs": [],
   "source": [
    "IMGS_PATH = '/home/mauricio/code/Plant-Growth-Cycle-based-on-geospatial-data/Manitoba/'\n",
    "band_labels = [\"B4\", \"B3\", \"B2\"]\n",
    "images = load_landsat_image(IMGS_PATH, band_labels)\n",
    "img_keys = list(images.keys())"
   ]
  },
  {
   "cell_type": "code",
   "execution_count": 17,
   "metadata": {},
   "outputs": [],
   "source": [
    "def get_center_pixels(image_data, diag_length=(3,3)):\n",
    "\n",
    "    drawing = image_data.copy()\n",
    "    h, w, _ = image_data.shape\n",
    "    rows, cols = diag_length\n",
    "    \n",
    "    center = (round(h/2), round(w/2))\n",
    "\n",
    "    square = image_data[center[0]-cols:center[0]+cols, center[1]-rows:center[1]+rows]\n",
    "\n",
    "    cv2.rectangle(drawing, (center[0]-cols, center[1]-rows), (center[0]+cols, center[1]+rows), (255, 255, 255))\n",
    "    plt.imshow(drawing)\n",
    "\n",
    "    return square"
   ]
  },
  {
   "cell_type": "code",
   "execution_count": 18,
   "metadata": {},
   "outputs": [],
   "source": [
    "test = convert_to_eight_bits(images[img_keys[0]])"
   ]
  },
  {
   "cell_type": "code",
   "execution_count": 19,
   "metadata": {},
   "outputs": [
    {
     "data": {
      "image/png": "[encoded data removed]",
      "text/plain": [
       "<Figure size 640x480 with 1 Axes>"
      ]
     },
     "metadata": {},
     "output_type": "display_data"
    }
   ],
   "source": [
    "test_region = get_center_pixels(test)"
   ]
  },
  {
   "cell_type": "code",
   "execution_count": 20,
   "metadata": {},
   "outputs": [
    {
     "data": {
      "text/plain": [
       "array([[[38, 44, 19],\n",
       "        [49, 54, 24],\n",
       "        [59, 55, 28],\n",
       "        [49, 54, 27],\n",
       "        [61, 57, 31],\n",
       "        [47, 53, 25]],\n",
       "\n",
       "       [[34, 43, 18],\n",
       "        [42, 53, 21],\n",
       "        [55, 58, 28],\n",
       "        [45, 50, 22],\n",
       "        [57, 55, 27],\n",
       "        [42, 50, 22]],\n",
       "\n",
       "       [[36, 44, 18],\n",
       "        [48, 53, 25],\n",
       "        [51, 55, 25],\n",
       "        [40, 46, 21],\n",
       "        [55, 56, 27],\n",
       "        [42, 48, 22]],\n",
       "\n",
       "       [[39, 46, 21],\n",
       "        [40, 49, 22],\n",
       "        [46, 53, 26],\n",
       "        [36, 45, 18],\n",
       "        [51, 54, 25],\n",
       "        [40, 48, 22]],\n",
       "\n",
       "       [[47, 46, 21],\n",
       "        [45, 47, 20],\n",
       "        [41, 50, 21],\n",
       "        [40, 47, 21],\n",
       "        [47, 56, 25],\n",
       "        [43, 48, 24]],\n",
       "\n",
       "       [[44, 53, 21],\n",
       "        [45, 53, 24],\n",
       "        [51, 55, 27],\n",
       "        [39, 50, 22],\n",
       "        [56, 59, 29],\n",
       "        [45, 51, 24]]], dtype=uint8)"
      ]
     },
     "execution_count": 20,
     "metadata": {},
     "output_type": "execute_result"
    }
   ],
   "source": [
    "test_region"
   ]
  },
  {
   "cell_type": "code",
   "execution_count": null,
   "metadata": {},
   "outputs": [],
   "source": []
  }
 ],
 "metadata": {
  "kernelspec": {
   "display_name": "Python 3.8.10 64-bit",
   "language": "python",
   "name": "python3"
  },
  "language_info": {
   "codemirror_mode": {
    "name": "ipython",
    "version": 3
   },
   "file_extension": ".py",
   "mimetype": "text/x-python",
   "name": "python",
   "nbconvert_exporter": "python",
   "pygments_lexer": "ipython3",
   "version": "3.8.10"
  },
  "orig_nbformat": 4,
  "vscode": {
   "interpreter": {
    "hash": "916dbcbb3f70747c44a77c7bcd40155683ae19c65e1c03b4aa3499c5328201f1"
   }
  }
 },
 "nbformat": 4,
 "nbformat_minor": 2
}
