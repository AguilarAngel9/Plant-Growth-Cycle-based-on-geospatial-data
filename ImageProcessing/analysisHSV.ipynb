{
 "cells": [
  {
   "cell_type": "markdown",
   "metadata": {},
   "source": [
    "# Image Processing"
   ]
  },
  {
   "cell_type": "markdown",
   "metadata": {},
   "source": [
    "Image processing pipeline involves\n",
    "- Querying google earth engine\n",
    "- Using the whole collection to identify farm plots and create masks\n",
    "- For every image in the collection, a custom plant growth metric and confidence score is calculated\n",
    "- Green score based on HSV color space scores\n",
    "- Confidence based on percent of pixels used for calculation (some removed from cloud cover or other issues)"
   ]
  },
  {
   "cell_type": "code",
   "execution_count": null,
   "metadata": {},
   "outputs": [],
   "source": []
  }
 ],
 "metadata": {
  "kernelspec": {
   "display_name": "Python 3.8.10 ('venvpgc': venv)",
   "language": "python",
   "name": "python3"
  },
  "language_info": {
   "name": "python",
   "version": "3.8.10"
  },
  "orig_nbformat": 4,
  "vscode": {
   "interpreter": {
    "hash": "9ddfd1c309174266b0ba4c5427a43cfefa116d0b96facd961e6d5ba2d63c7662"
   }
  }
 },
 "nbformat": 4,
 "nbformat_minor": 2
}
