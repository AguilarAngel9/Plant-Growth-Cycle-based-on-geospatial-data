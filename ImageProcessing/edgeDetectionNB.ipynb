{
 "cells": [
  {
   "cell_type": "code",
   "execution_count": 1,
   "metadata": {},
   "outputs": [],
   "source": [
    "from typing import Dict, List, Tuple, Union\n",
    "from skimage import exposure, img_as_ubyte\n",
    "import rasterio\n",
    "import pathlib\n",
    "import re\n",
    "import cv2\n",
    "import numpy as np\n",
    "from matplotlib import pyplot as plt\n",
    "import matplotlib.gridspec as gridspec"
   ]
  },
  {
   "cell_type": "code",
   "execution_count": 2,
   "metadata": {},
   "outputs": [],
   "source": [
    "def load_landsat_image(\n",
    "    img_folder: Union[str, None],\n",
    "    bands: Union[List[str], None]\n",
    ") -> Dict:\n",
    "    \"\"\"\n",
    "    Take a folder path and return a dict with the raw vectors extracted from the Earth Engine.\n",
    "    \"\"\"\n",
    "    # Dictionary to save the image.\n",
    "    images_dict = {}\n",
    "\n",
    "    if img_folder:\n",
    "        # Use the provided path.\n",
    "        path = pathlib.Path(img_folder)\n",
    "    else:\n",
    "        # Get the path to retrieve.\n",
    "        path = pathlib.Path(__file__).parent\n",
    "\n",
    "    # Get the list of all files.\n",
    "    files = [f.name for f in path.glob('**/*.tif')]\n",
    "    # Parse all of filenames to get the unique ones.\n",
    "    files = set([re.search('_[0-9](.*)[0-9]_', x).group() for x in files])\n",
    "    # Dict of images to return.\n",
    "    images_dict = {}\n",
    "\n",
    "    # Iterate over the files.\n",
    "    for pat in files:\n",
    "        image = {}\n",
    "        # Iterate over the bands.\n",
    "        for band in bands:\n",
    "            file = next(path.glob(f'*{pat}{band}.tif'))\n",
    "            print(f'Opening file {file}')\n",
    "            ds = rasterio.open(file)\n",
    "            image.update({band: ds.read(1)})\n",
    "        # Update the main dict.\n",
    "        images_dict.update(\n",
    "            {pat.replace('_','') : image}\n",
    "        )\n",
    "\n",
    "    return images_dict\n",
    "\n",
    "def display_rgb(\n",
    "    img: Union[Dict, None], \n",
    "    alpha=1., \n",
    "    figsize=(10, 10)\n",
    "    ) -> None:\n",
    "    rgb = np.stack(\n",
    "        [img['B4'], img['B3'], img['B2']],\n",
    "        axis=-1\n",
    "    )\n",
    "    rgb = rgb/rgb.max() * alpha\n",
    "    plt.figure(figsize=figsize)\n",
    "    plt.imshow(rgb)\n",
    "    \n",
    "def convert_to_eight_bits(\n",
    "    img: Union[Dict, None]\n",
    ") -> np.array:\n",
    "    \"\"\"\n",
    "    To reescale image to 8 bits.\n",
    "    \"\"\"\n",
    "    img_stack = np.stack(\n",
    "        [img['B4'], img['B3'], img['B2']]\n",
    "        , axis=-1)\n",
    "\n",
    "    scaled_img = img_as_ubyte(\n",
    "        exposure.rescale_intensity(img_stack)\n",
    "    )\n",
    "    \n",
    "    return scaled_img"
   ]
  },
  {
   "cell_type": "code",
   "execution_count": 3,
   "metadata": {},
   "outputs": [
    {
     "name": "stdout",
     "output_type": "stream",
     "text": [
      "Opening file /home/mauricio/code/Plant-Growth-Cycle-based-on-geospatial-data/ClimateData_NIR_RGB/S-HARMONIZED_20210814T165901_20210814T170626_T15TVG_14Aug2021_B4.tif\n",
      "Opening file /home/mauricio/code/Plant-Growth-Cycle-based-on-geospatial-data/ClimateData_NIR_RGB/S-HARMONIZED_20210814T165901_20210814T170626_T15TVG_14Aug2021_B3.tif\n",
      "Opening file /home/mauricio/code/Plant-Growth-Cycle-based-on-geospatial-data/ClimateData_NIR_RGB/S-HARMONIZED_20210814T165901_20210814T170626_T15TVG_14Aug2021_B2.tif\n",
      "Opening file /home/mauricio/code/Plant-Growth-Cycle-based-on-geospatial-data/ClimateData_NIR_RGB/S-HARMONIZED_20210819T165849_20210819T170004_T15TVG_19Aug2021_B4.tif\n",
      "Opening file /home/mauricio/code/Plant-Growth-Cycle-based-on-geospatial-data/ClimateData_NIR_RGB/S-HARMONIZED_20210819T165849_20210819T170004_T15TVG_19Aug2021_B3.tif\n",
      "Opening file /home/mauricio/code/Plant-Growth-Cycle-based-on-geospatial-data/ClimateData_NIR_RGB/S-HARMONIZED_20210819T165849_20210819T170004_T15TVG_19Aug2021_B2.tif\n",
      "Opening file /home/mauricio/code/Plant-Growth-Cycle-based-on-geospatial-data/ClimateData_NIR_RGB/S-HARMONIZED_20210809T165849_20210809T171029_T15TVG_09Aug2021_B4.tif\n",
      "Opening file /home/mauricio/code/Plant-Growth-Cycle-based-on-geospatial-data/ClimateData_NIR_RGB/S-HARMONIZED_20210809T165849_20210809T171029_T15TVG_09Aug2021_B3.tif\n",
      "Opening file /home/mauricio/code/Plant-Growth-Cycle-based-on-geospatial-data/ClimateData_NIR_RGB/S-HARMONIZED_20210809T165849_20210809T171029_T15TVG_09Aug2021_B2.tif\n",
      "Opening file /home/mauricio/code/Plant-Growth-Cycle-based-on-geospatial-data/ClimateData_NIR_RGB/S-HARMONIZED_20210802T170849_20210802T171859_T15TVG_02Aug2021_B4.tif\n",
      "Opening file /home/mauricio/code/Plant-Growth-Cycle-based-on-geospatial-data/ClimateData_NIR_RGB/S-HARMONIZED_20210802T170849_20210802T171859_T15TVG_02Aug2021_B3.tif\n",
      "Opening file /home/mauricio/code/Plant-Growth-Cycle-based-on-geospatial-data/ClimateData_NIR_RGB/S-HARMONIZED_20210802T170849_20210802T171859_T15TVG_02Aug2021_B2.tif\n",
      "Opening file /home/mauricio/code/Plant-Growth-Cycle-based-on-geospatial-data/ClimateData_NIR_RGB/S-HARMONIZED_20210822T170849_20210822T171856_T15TVG_22Aug2021_B4.tif\n",
      "Opening file /home/mauricio/code/Plant-Growth-Cycle-based-on-geospatial-data/ClimateData_NIR_RGB/S-HARMONIZED_20210822T170849_20210822T171856_T15TVG_22Aug2021_B3.tif\n",
      "Opening file /home/mauricio/code/Plant-Growth-Cycle-based-on-geospatial-data/ClimateData_NIR_RGB/S-HARMONIZED_20210822T170849_20210822T171856_T15TVG_22Aug2021_B2.tif\n",
      "Opening file /home/mauricio/code/Plant-Growth-Cycle-based-on-geospatial-data/ClimateData_NIR_RGB/S-HARMONIZED_20210824T165851_20210824T170900_T15TVG_24Aug2021_B4.tif\n",
      "Opening file /home/mauricio/code/Plant-Growth-Cycle-based-on-geospatial-data/ClimateData_NIR_RGB/S-HARMONIZED_20210824T165851_20210824T170900_T15TVG_24Aug2021_B3.tif\n",
      "Opening file /home/mauricio/code/Plant-Growth-Cycle-based-on-geospatial-data/ClimateData_NIR_RGB/S-HARMONIZED_20210824T165851_20210824T170900_T15TVG_24Aug2021_B2.tif\n",
      "Opening file /home/mauricio/code/Plant-Growth-Cycle-based-on-geospatial-data/ClimateData_NIR_RGB/S-HARMONIZED_20210817T170851_20210817T171432_T15TVG_17Aug2021_B4.tif\n",
      "Opening file /home/mauricio/code/Plant-Growth-Cycle-based-on-geospatial-data/ClimateData_NIR_RGB/S-HARMONIZED_20210817T170851_20210817T171432_T15TVG_17Aug2021_B3.tif\n",
      "Opening file /home/mauricio/code/Plant-Growth-Cycle-based-on-geospatial-data/ClimateData_NIR_RGB/S-HARMONIZED_20210817T170851_20210817T171432_T15TVG_17Aug2021_B2.tif\n",
      "Opening file /home/mauricio/code/Plant-Growth-Cycle-based-on-geospatial-data/ClimateData_NIR_RGB/S-HARMONIZED_20210812T170849_20210812T171908_T15TVG_12Aug2021_B4.tif\n",
      "Opening file /home/mauricio/code/Plant-Growth-Cycle-based-on-geospatial-data/ClimateData_NIR_RGB/S-HARMONIZED_20210812T170849_20210812T171908_T15TVG_12Aug2021_B3.tif\n",
      "Opening file /home/mauricio/code/Plant-Growth-Cycle-based-on-geospatial-data/ClimateData_NIR_RGB/S-HARMONIZED_20210812T170849_20210812T171908_T15TVG_12Aug2021_B2.tif\n",
      "Opening file /home/mauricio/code/Plant-Growth-Cycle-based-on-geospatial-data/ClimateData_NIR_RGB/S-HARMONIZED_20210827T170851_20210827T171805_T15TVG_27Aug2021_B4.tif\n",
      "Opening file /home/mauricio/code/Plant-Growth-Cycle-based-on-geospatial-data/ClimateData_NIR_RGB/S-HARMONIZED_20210827T170851_20210827T171805_T15TVG_27Aug2021_B3.tif\n",
      "Opening file /home/mauricio/code/Plant-Growth-Cycle-based-on-geospatial-data/ClimateData_NIR_RGB/S-HARMONIZED_20210827T170851_20210827T171805_T15TVG_27Aug2021_B2.tif\n",
      "Opening file /home/mauricio/code/Plant-Growth-Cycle-based-on-geospatial-data/ClimateData_NIR_RGB/S-HARMONIZED_20210804T165901_20210804T170637_T15TVG_04Aug2021_B4.tif\n",
      "Opening file /home/mauricio/code/Plant-Growth-Cycle-based-on-geospatial-data/ClimateData_NIR_RGB/S-HARMONIZED_20210804T165901_20210804T170637_T15TVG_04Aug2021_B3.tif\n",
      "Opening file /home/mauricio/code/Plant-Growth-Cycle-based-on-geospatial-data/ClimateData_NIR_RGB/S-HARMONIZED_20210804T165901_20210804T170637_T15TVG_04Aug2021_B2.tif\n"
     ]
    }
   ],
   "source": [
    "IMGS_PATH = '/home/mauricio/code/Plant-Growth-Cycle-based-on-geospatial-data/ClimateData_NIR_RGB/'\n",
    "band_labels = [\"B4\", \"B3\", \"B2\"]\n",
    "images = load_landsat_image(IMGS_PATH, band_labels)\n",
    "img_keys = list(images.keys())"
   ]
  },
  {
   "cell_type": "code",
   "execution_count": null,
   "metadata": {},
   "outputs": [],
   "source": []
  }
 ],
 "metadata": {
  "kernelspec": {
   "display_name": "Python 3.8.10 64-bit",
   "language": "python",
   "name": "python3"
  },
  "language_info": {
   "codemirror_mode": {
    "name": "ipython",
    "version": 3
   },
   "file_extension": ".py",
   "mimetype": "text/x-python",
   "name": "python",
   "nbconvert_exporter": "python",
   "pygments_lexer": "ipython3",
   "version": "3.8.10"
  },
  "orig_nbformat": 4,
  "vscode": {
   "interpreter": {
    "hash": "916dbcbb3f70747c44a77c7bcd40155683ae19c65e1c03b4aa3499c5328201f1"
   }
  }
 },
 "nbformat": 4,
 "nbformat_minor": 2
}
